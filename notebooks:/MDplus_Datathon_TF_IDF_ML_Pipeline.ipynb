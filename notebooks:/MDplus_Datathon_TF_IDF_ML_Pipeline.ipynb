{
  "nbformat": 4,
  "nbformat_minor": 0,
  "metadata": {
    "colab": {
      "provenance": [],
      "machine_shape": "hm"
    },
    "kernelspec": {
      "name": "python3",
      "display_name": "Python 3"
    },
    "language_info": {
      "name": "python"
    },
    "widgets": {
      "application/vnd.jupyter.widget-state+json": {
        "fcda1f979715497d942bcd02bf177af1": {
          "model_module": "@jupyter-widgets/controls",
          "model_name": "DropdownModel",
          "model_module_version": "2.0.0",
          "state": {
            "_dom_classes": [],
            "_model_module": "@jupyter-widgets/controls",
            "_model_module_version": "2.0.0",
            "_model_name": "DropdownModel",
            "_options_labels": [
              "Medical Education",
              "Clinical Documentation",
              "Mental Health"
            ],
            "_view_count": null,
            "_view_module": "@jupyter-widgets/controls",
            "_view_module_version": "2.0.0",
            "_view_name": "DropdownView",
            "description": "Track:",
            "description_allow_html": false,
            "disabled": false,
            "index": 2,
            "layout": "IPY_MODEL_24afa29a5c6c4ed3b9023de94d255090",
            "style": "IPY_MODEL_6b696ccb169b49c4b2d6e6342ea299e3",
            "tabbable": null,
            "tooltip": null
          }
        },
        "24afa29a5c6c4ed3b9023de94d255090": {
          "model_module": "@jupyter-widgets/base",
          "model_name": "LayoutModel",
          "model_module_version": "2.0.0",
          "state": {
            "_model_module": "@jupyter-widgets/base",
            "_model_module_version": "2.0.0",
            "_model_name": "LayoutModel",
            "_view_count": null,
            "_view_module": "@jupyter-widgets/base",
            "_view_module_version": "2.0.0",
            "_view_name": "LayoutView",
            "align_content": null,
            "align_items": null,
            "align_self": null,
            "border_bottom": null,
            "border_left": null,
            "border_right": null,
            "border_top": null,
            "bottom": null,
            "display": null,
            "flex": null,
            "flex_flow": null,
            "grid_area": null,
            "grid_auto_columns": null,
            "grid_auto_flow": null,
            "grid_auto_rows": null,
            "grid_column": null,
            "grid_gap": null,
            "grid_row": null,
            "grid_template_areas": null,
            "grid_template_columns": null,
            "grid_template_rows": null,
            "height": null,
            "justify_content": null,
            "justify_items": null,
            "left": null,
            "margin": null,
            "max_height": null,
            "max_width": null,
            "min_height": null,
            "min_width": null,
            "object_fit": null,
            "object_position": null,
            "order": null,
            "overflow": null,
            "padding": null,
            "right": null,
            "top": null,
            "visibility": null,
            "width": null
          }
        },
        "6b696ccb169b49c4b2d6e6342ea299e3": {
          "model_module": "@jupyter-widgets/controls",
          "model_name": "DescriptionStyleModel",
          "model_module_version": "2.0.0",
          "state": {
            "_model_module": "@jupyter-widgets/controls",
            "_model_module_version": "2.0.0",
            "_model_name": "DescriptionStyleModel",
            "_view_count": null,
            "_view_module": "@jupyter-widgets/base",
            "_view_module_version": "2.0.0",
            "_view_name": "StyleView",
            "description_width": ""
          }
        }
      }
    }
  },
  "cells": [
    {
      "cell_type": "markdown",
      "source": [
        "![](https://images.squarespace-cdn.com/content/v1/61d8b320b69665709c730b42/3ed0a4b0-d655-438f-9dfb-0675f3744eb3/B+Logo+for+White+Background+%28Use+on+%23FFFFFF%29.png?format=150w)\n",
        "\n",
        "# [MDplus Datathon 2024](http://ai.mdplus.community/datathon/2024)\n",
        "\n",
        "Welcome to the 2024 MDplus Datathon! We're so excited to have you participate in this year's datathon. The goal of this Python notebook is three fold:\n",
        "\n",
        "  1. **Learn** the basics of Python and how we can easily use programming as a tool to interact with and analyze medical data. **No prior Python experience is required or expected!**\n",
        "  2. **Understand** and interact with the clinical dataset(s) curated for this year's datathon.\n",
        "  3. **Write** a simple function to ask a large language model (like ChatGPT) a question using Python code.\n",
        "\n",
        "Have any questions? Ask a question in the `#datathon-2024` MDplus Slack channel!"
      ],
      "metadata": {
        "id": "a0BwWoqWFzQ_"
      }
    },
    {
      "cell_type": "markdown",
      "source": [
        "[Python](https://www.w3schools.com/python/) is a general-purpose, user-friendly programming language that can be used for a variety of different tasks, including analyzing clinical datasets.\n",
        "\n",
        "While Python code is built to be easy to read and write, writing your own code to parse through datasets, multiply numbers, and other mundane tasks can be a waste of time. Instead, the Python community has already written a lot of helpful tools and functions for us to use for these tasks! These tools and functions are organized into ***packages***. We can use a Python package manager called `pip` to download some packages that are relevant for us:"
      ],
      "metadata": {
        "id": "UAUFvBDvG2lu"
      }
    },
    {
      "cell_type": "code",
      "execution_count": null,
      "metadata": {
        "id": "bmEDvJobctyB"
      },
      "outputs": [],
      "source": [
        "# To run a code block like this one, press the \"Play\" button on the left hand\n",
        "# side or press [Shift + Enter] on your keyboard while this code block is\n",
        "# selected.\n",
        "!pip install -U datasets ipywidgets together --quiet"
      ]
    },
    {
      "cell_type": "markdown",
      "source": [
        "Now that we've downloaded these packages, we also need to import them for us to use. The keyword `import` in Python tells your computer to import the packages and all of their helpful functions and tools for us to use here."
      ],
      "metadata": {
        "id": "7upDcHnFJB1Q"
      }
    },
    {
      "cell_type": "code",
      "source": [
        "import datasets\n",
        "import os\n",
        "import requests\n",
        "from google.colab import userdata, output\n",
        "from ipywidgets import widgets\n",
        "from together import Together\n",
        "from typing import Any, Dict\n",
        "\n",
        "output.enable_custom_widget_manager()"
      ],
      "metadata": {
        "id": "poFihrVwcx2T"
      },
      "execution_count": null,
      "outputs": []
    },
    {
      "cell_type": "markdown",
      "source": [
        "In this year's datathon, we have three separate tracks for you and your team to participate in depending on your interests.\n",
        "\n",
        "  1. Medical Education\n",
        "  2. Clinical Documentation\n",
        "  3. Mental Health\n",
        "\n",
        "Each of these tracks have their own datasets associated with them. The following code block will download the dataset that's relevant for you depending on your track. The code itself is likely more sophisticated than what you'll need for your project, so we don't recommend worrying too much about this code block. However, if you're interested we've also commented descriptions of what the code is doing. Comments (starting with the `#` character) are just notes for humans to better understand your code, and are invisible to your computer.\n",
        "\n",
        "More information on the datasets can be found here: https://huggingface.co/datasets/mdplus/Datathon2024"
      ],
      "metadata": {
        "id": "krHc6LikJglt"
      }
    },
    {
      "cell_type": "code",
      "source": [
        "# TRACK_OPTIONS is a \"dictionary\" that maps certain values to other values. In\n",
        "# this case, our dictionary below maps the names of the Datathon tracks (e.g.,\n",
        "# Medication Eduction) to the ID of the dataset in the Datathon (e.g., meded).\n",
        "TRACK_OPTIONS = {\n",
        "    \"Medical Education\": \"meded\",\n",
        "    \"Clinical Documentation\": \"clindoc\",\n",
        "    \"Mental Health\": \"mentalhealth\"\n",
        "}\n",
        "\n",
        "# TRACK is a variable that stores what track you and your team will be\n",
        "# participating in.\n",
        "TRACK = list(TRACK_OPTIONS.keys())[2]\n",
        "\n",
        "# We'll create a user-friendly widget for your to be able to select your\n",
        "# track that you're participating in. We create this widget using the\n",
        "# Dropdown object from the `widgets` package.\n",
        "track_selection = widgets.Dropdown(\n",
        "    options=TRACK_OPTIONS.keys(),\n",
        "    description=\"Track:\",\n",
        "    value=TRACK\n",
        ")\n",
        "\n",
        "# This is a helper function that we'll use to update the value of the\n",
        "# TRACK variable depending on what you select from the dropdown widget.\n",
        "# No need to look too closely at this function.\n",
        "def on_change(change: Dict[str, Any]) -> None:\n",
        "    global TRACK\n",
        "    if change[\"type\"] == \"change\" and change[\"name\"] == \"value\":\n",
        "        TRACK = change[\"new\"]\n",
        "    return\n",
        "\n",
        "# Here, we're telling Dropdown widget to update the TRACK variable depending\n",
        "# on the widget value.\n",
        "track_selection.observe(on_change)\n",
        "\n",
        "# Use the widget to select your Datathon track!\n",
        "display(track_selection)"
      ],
      "metadata": {
        "id": "gPstlHJJvDoG",
        "colab": {
          "base_uri": "https://localhost:8080/",
          "referenced_widgets": [
            "fcda1f979715497d942bcd02bf177af1",
            "24afa29a5c6c4ed3b9023de94d255090",
            "6b696ccb169b49c4b2d6e6342ea299e3"
          ],
          "height": 49
        },
        "outputId": "24032141-36b6-4755-e850-0fef5435bd54"
      },
      "execution_count": null,
      "outputs": [
        {
          "output_type": "display_data",
          "data": {
            "text/plain": [
              "Dropdown(description='Track:', index=2, options=('Medical Education', 'Clinical Documentation', 'Mental Health…"
            ],
            "application/vnd.jupyter.widget-view+json": {
              "version_major": 2,
              "version_minor": 0,
              "model_id": "fcda1f979715497d942bcd02bf177af1"
            }
          },
          "metadata": {
            "application/vnd.jupyter.widget-view+json": {
              "colab": {
                "custom_widget_manager": {
                  "url": "https://ssl.gstatic.com/colaboratory-static/widgets/colab-cdn-widget-manager/2b70e893a8ba7c0f/manager.min.js"
                }
              }
            }
          }
        }
      ]
    },
    {
      "cell_type": "markdown",
      "source": [
        "After selecting your Datathon track from the Dropdown widget above, we can now load the dataset associated with your specific track. All of the datasets for all three tracks can be found at [this link](https://huggingface.co/datasets/mdplus/Datathon2024/tree/main). However, manually downloading these datasets can be difficult - our datasets are quite small, but other datasets you encounter in real life can be a lot bigger!\n",
        "\n",
        "Instead, let's use the Python `datasets` package to download our track's dataset. We'll use the `load_dataset()` function to download the dataset and save it as a variable called `ds`. We've already split your dataset into training and test splits - you should use the training split to train any models or algorithms you develop, and the test split to evaluate your project."
      ],
      "metadata": {
        "id": "MTniiGfsK0pv"
      }
    },
    {
      "cell_type": "code",
      "source": [
        "# You might get a warning about the `HF_TOKEN` not existing in your Colab\n",
        "# secrets. Don't worry about this for now for the purposes of this tutorial!\n",
        "ds = datasets.load_dataset(\"mdplus/Datathon2024\", data_dir=TRACK_OPTIONS[TRACK])\n",
        "train_dataset = ds[\"train\"].to_pandas()\n",
        "test_dataset = ds[\"test\"].to_pandas()"
      ],
      "metadata": {
        "id": "epfRN8woc5ZA"
      },
      "execution_count": null,
      "outputs": []
    },
    {
      "cell_type": "markdown",
      "source": [
        "What does the training dataset look like? Let's take a look!"
      ],
      "metadata": {
        "id": "JAtVcWChRd_n"
      }
    },
    {
      "cell_type": "code",
      "source": [
        "train_dataset"
      ],
      "metadata": {
        "id": "k1Zv8O6PRjyM",
        "colab": {
          "base_uri": "https://localhost:8080/",
          "height": 419
        },
        "outputId": "b95917ee-e1d2-4f2d-a640-1b4f3255452a"
      },
      "execution_count": null,
      "outputs": [
        {
          "output_type": "execute_result",
          "data": {
            "text/plain": [
              "                                                    text          label\n",
              "0      wanting to skip or postpone my exam my exam is...        anxiety\n",
              "1      Do other bipolar folks have problems with subs...        bipolar\n",
              "2      Wanted to share some revelations I just had to...     depression\n",
              "3      I feel deader than dead. I find that I don't h...  suicide_watch\n",
              "4      I'm pretty sure my friends suicidal what do I ...  suicide_watch\n",
              "...                                                  ...            ...\n",
              "43524  I stopped Lamictal after it screwed up my visi...        bipolar\n",
              "43525  I'm afraid my ex committed suicide what do I d...  suicide_watch\n",
              "43526  Failed college 2 times it was +10 years ago. I...     depression\n",
              "43527  Put on some music that you find beautiful and ...        anxiety\n",
              "43528  Discovered that my friend made a blog and toda...     depression\n",
              "\n",
              "[43529 rows x 2 columns]"
            ],
            "text/html": [
              "\n",
              "  <div id=\"df-9076f82f-cc3d-4b87-99a1-f353f0f2de66\" class=\"colab-df-container\">\n",
              "    <div>\n",
              "<style scoped>\n",
              "    .dataframe tbody tr th:only-of-type {\n",
              "        vertical-align: middle;\n",
              "    }\n",
              "\n",
              "    .dataframe tbody tr th {\n",
              "        vertical-align: top;\n",
              "    }\n",
              "\n",
              "    .dataframe thead th {\n",
              "        text-align: right;\n",
              "    }\n",
              "</style>\n",
              "<table border=\"1\" class=\"dataframe\">\n",
              "  <thead>\n",
              "    <tr style=\"text-align: right;\">\n",
              "      <th></th>\n",
              "      <th>text</th>\n",
              "      <th>label</th>\n",
              "    </tr>\n",
              "  </thead>\n",
              "  <tbody>\n",
              "    <tr>\n",
              "      <th>0</th>\n",
              "      <td>wanting to skip or postpone my exam my exam is...</td>\n",
              "      <td>anxiety</td>\n",
              "    </tr>\n",
              "    <tr>\n",
              "      <th>1</th>\n",
              "      <td>Do other bipolar folks have problems with subs...</td>\n",
              "      <td>bipolar</td>\n",
              "    </tr>\n",
              "    <tr>\n",
              "      <th>2</th>\n",
              "      <td>Wanted to share some revelations I just had to...</td>\n",
              "      <td>depression</td>\n",
              "    </tr>\n",
              "    <tr>\n",
              "      <th>3</th>\n",
              "      <td>I feel deader than dead. I find that I don't h...</td>\n",
              "      <td>suicide_watch</td>\n",
              "    </tr>\n",
              "    <tr>\n",
              "      <th>4</th>\n",
              "      <td>I'm pretty sure my friends suicidal what do I ...</td>\n",
              "      <td>suicide_watch</td>\n",
              "    </tr>\n",
              "    <tr>\n",
              "      <th>...</th>\n",
              "      <td>...</td>\n",
              "      <td>...</td>\n",
              "    </tr>\n",
              "    <tr>\n",
              "      <th>43524</th>\n",
              "      <td>I stopped Lamictal after it screwed up my visi...</td>\n",
              "      <td>bipolar</td>\n",
              "    </tr>\n",
              "    <tr>\n",
              "      <th>43525</th>\n",
              "      <td>I'm afraid my ex committed suicide what do I d...</td>\n",
              "      <td>suicide_watch</td>\n",
              "    </tr>\n",
              "    <tr>\n",
              "      <th>43526</th>\n",
              "      <td>Failed college 2 times it was +10 years ago. I...</td>\n",
              "      <td>depression</td>\n",
              "    </tr>\n",
              "    <tr>\n",
              "      <th>43527</th>\n",
              "      <td>Put on some music that you find beautiful and ...</td>\n",
              "      <td>anxiety</td>\n",
              "    </tr>\n",
              "    <tr>\n",
              "      <th>43528</th>\n",
              "      <td>Discovered that my friend made a blog and toda...</td>\n",
              "      <td>depression</td>\n",
              "    </tr>\n",
              "  </tbody>\n",
              "</table>\n",
              "<p>43529 rows × 2 columns</p>\n",
              "</div>\n",
              "    <div class=\"colab-df-buttons\">\n",
              "\n",
              "  <div class=\"colab-df-container\">\n",
              "    <button class=\"colab-df-convert\" onclick=\"convertToInteractive('df-9076f82f-cc3d-4b87-99a1-f353f0f2de66')\"\n",
              "            title=\"Convert this dataframe to an interactive table.\"\n",
              "            style=\"display:none;\">\n",
              "\n",
              "  <svg xmlns=\"http://www.w3.org/2000/svg\" height=\"24px\" viewBox=\"0 -960 960 960\">\n",
              "    <path d=\"M120-120v-720h720v720H120Zm60-500h600v-160H180v160Zm220 220h160v-160H400v160Zm0 220h160v-160H400v160ZM180-400h160v-160H180v160Zm440 0h160v-160H620v160ZM180-180h160v-160H180v160Zm440 0h160v-160H620v160Z\"/>\n",
              "  </svg>\n",
              "    </button>\n",
              "\n",
              "  <style>\n",
              "    .colab-df-container {\n",
              "      display:flex;\n",
              "      gap: 12px;\n",
              "    }\n",
              "\n",
              "    .colab-df-convert {\n",
              "      background-color: #E8F0FE;\n",
              "      border: none;\n",
              "      border-radius: 50%;\n",
              "      cursor: pointer;\n",
              "      display: none;\n",
              "      fill: #1967D2;\n",
              "      height: 32px;\n",
              "      padding: 0 0 0 0;\n",
              "      width: 32px;\n",
              "    }\n",
              "\n",
              "    .colab-df-convert:hover {\n",
              "      background-color: #E2EBFA;\n",
              "      box-shadow: 0px 1px 2px rgba(60, 64, 67, 0.3), 0px 1px 3px 1px rgba(60, 64, 67, 0.15);\n",
              "      fill: #174EA6;\n",
              "    }\n",
              "\n",
              "    .colab-df-buttons div {\n",
              "      margin-bottom: 4px;\n",
              "    }\n",
              "\n",
              "    [theme=dark] .colab-df-convert {\n",
              "      background-color: #3B4455;\n",
              "      fill: #D2E3FC;\n",
              "    }\n",
              "\n",
              "    [theme=dark] .colab-df-convert:hover {\n",
              "      background-color: #434B5C;\n",
              "      box-shadow: 0px 1px 3px 1px rgba(0, 0, 0, 0.15);\n",
              "      filter: drop-shadow(0px 1px 2px rgba(0, 0, 0, 0.3));\n",
              "      fill: #FFFFFF;\n",
              "    }\n",
              "  </style>\n",
              "\n",
              "    <script>\n",
              "      const buttonEl =\n",
              "        document.querySelector('#df-9076f82f-cc3d-4b87-99a1-f353f0f2de66 button.colab-df-convert');\n",
              "      buttonEl.style.display =\n",
              "        google.colab.kernel.accessAllowed ? 'block' : 'none';\n",
              "\n",
              "      async function convertToInteractive(key) {\n",
              "        const element = document.querySelector('#df-9076f82f-cc3d-4b87-99a1-f353f0f2de66');\n",
              "        const dataTable =\n",
              "          await google.colab.kernel.invokeFunction('convertToInteractive',\n",
              "                                                    [key], {});\n",
              "        if (!dataTable) return;\n",
              "\n",
              "        const docLinkHtml = 'Like what you see? Visit the ' +\n",
              "          '<a target=\"_blank\" href=https://colab.research.google.com/notebooks/data_table.ipynb>data table notebook</a>'\n",
              "          + ' to learn more about interactive tables.';\n",
              "        element.innerHTML = '';\n",
              "        dataTable['output_type'] = 'display_data';\n",
              "        await google.colab.output.renderOutput(dataTable, element);\n",
              "        const docLink = document.createElement('div');\n",
              "        docLink.innerHTML = docLinkHtml;\n",
              "        element.appendChild(docLink);\n",
              "      }\n",
              "    </script>\n",
              "  </div>\n",
              "\n",
              "\n",
              "<div id=\"df-43f7dbe7-a2d1-470c-bcf5-56fbe5e95615\">\n",
              "  <button class=\"colab-df-quickchart\" onclick=\"quickchart('df-43f7dbe7-a2d1-470c-bcf5-56fbe5e95615')\"\n",
              "            title=\"Suggest charts\"\n",
              "            style=\"display:none;\">\n",
              "\n",
              "<svg xmlns=\"http://www.w3.org/2000/svg\" height=\"24px\"viewBox=\"0 0 24 24\"\n",
              "     width=\"24px\">\n",
              "    <g>\n",
              "        <path d=\"M19 3H5c-1.1 0-2 .9-2 2v14c0 1.1.9 2 2 2h14c1.1 0 2-.9 2-2V5c0-1.1-.9-2-2-2zM9 17H7v-7h2v7zm4 0h-2V7h2v10zm4 0h-2v-4h2v4z\"/>\n",
              "    </g>\n",
              "</svg>\n",
              "  </button>\n",
              "\n",
              "<style>\n",
              "  .colab-df-quickchart {\n",
              "      --bg-color: #E8F0FE;\n",
              "      --fill-color: #1967D2;\n",
              "      --hover-bg-color: #E2EBFA;\n",
              "      --hover-fill-color: #174EA6;\n",
              "      --disabled-fill-color: #AAA;\n",
              "      --disabled-bg-color: #DDD;\n",
              "  }\n",
              "\n",
              "  [theme=dark] .colab-df-quickchart {\n",
              "      --bg-color: #3B4455;\n",
              "      --fill-color: #D2E3FC;\n",
              "      --hover-bg-color: #434B5C;\n",
              "      --hover-fill-color: #FFFFFF;\n",
              "      --disabled-bg-color: #3B4455;\n",
              "      --disabled-fill-color: #666;\n",
              "  }\n",
              "\n",
              "  .colab-df-quickchart {\n",
              "    background-color: var(--bg-color);\n",
              "    border: none;\n",
              "    border-radius: 50%;\n",
              "    cursor: pointer;\n",
              "    display: none;\n",
              "    fill: var(--fill-color);\n",
              "    height: 32px;\n",
              "    padding: 0;\n",
              "    width: 32px;\n",
              "  }\n",
              "\n",
              "  .colab-df-quickchart:hover {\n",
              "    background-color: var(--hover-bg-color);\n",
              "    box-shadow: 0 1px 2px rgba(60, 64, 67, 0.3), 0 1px 3px 1px rgba(60, 64, 67, 0.15);\n",
              "    fill: var(--button-hover-fill-color);\n",
              "  }\n",
              "\n",
              "  .colab-df-quickchart-complete:disabled,\n",
              "  .colab-df-quickchart-complete:disabled:hover {\n",
              "    background-color: var(--disabled-bg-color);\n",
              "    fill: var(--disabled-fill-color);\n",
              "    box-shadow: none;\n",
              "  }\n",
              "\n",
              "  .colab-df-spinner {\n",
              "    border: 2px solid var(--fill-color);\n",
              "    border-color: transparent;\n",
              "    border-bottom-color: var(--fill-color);\n",
              "    animation:\n",
              "      spin 1s steps(1) infinite;\n",
              "  }\n",
              "\n",
              "  @keyframes spin {\n",
              "    0% {\n",
              "      border-color: transparent;\n",
              "      border-bottom-color: var(--fill-color);\n",
              "      border-left-color: var(--fill-color);\n",
              "    }\n",
              "    20% {\n",
              "      border-color: transparent;\n",
              "      border-left-color: var(--fill-color);\n",
              "      border-top-color: var(--fill-color);\n",
              "    }\n",
              "    30% {\n",
              "      border-color: transparent;\n",
              "      border-left-color: var(--fill-color);\n",
              "      border-top-color: var(--fill-color);\n",
              "      border-right-color: var(--fill-color);\n",
              "    }\n",
              "    40% {\n",
              "      border-color: transparent;\n",
              "      border-right-color: var(--fill-color);\n",
              "      border-top-color: var(--fill-color);\n",
              "    }\n",
              "    60% {\n",
              "      border-color: transparent;\n",
              "      border-right-color: var(--fill-color);\n",
              "    }\n",
              "    80% {\n",
              "      border-color: transparent;\n",
              "      border-right-color: var(--fill-color);\n",
              "      border-bottom-color: var(--fill-color);\n",
              "    }\n",
              "    90% {\n",
              "      border-color: transparent;\n",
              "      border-bottom-color: var(--fill-color);\n",
              "    }\n",
              "  }\n",
              "</style>\n",
              "\n",
              "  <script>\n",
              "    async function quickchart(key) {\n",
              "      const quickchartButtonEl =\n",
              "        document.querySelector('#' + key + ' button');\n",
              "      quickchartButtonEl.disabled = true;  // To prevent multiple clicks.\n",
              "      quickchartButtonEl.classList.add('colab-df-spinner');\n",
              "      try {\n",
              "        const charts = await google.colab.kernel.invokeFunction(\n",
              "            'suggestCharts', [key], {});\n",
              "      } catch (error) {\n",
              "        console.error('Error during call to suggestCharts:', error);\n",
              "      }\n",
              "      quickchartButtonEl.classList.remove('colab-df-spinner');\n",
              "      quickchartButtonEl.classList.add('colab-df-quickchart-complete');\n",
              "    }\n",
              "    (() => {\n",
              "      let quickchartButtonEl =\n",
              "        document.querySelector('#df-43f7dbe7-a2d1-470c-bcf5-56fbe5e95615 button');\n",
              "      quickchartButtonEl.style.display =\n",
              "        google.colab.kernel.accessAllowed ? 'block' : 'none';\n",
              "    })();\n",
              "  </script>\n",
              "</div>\n",
              "\n",
              "  <div id=\"id_d5742bf5-3418-4b10-91a8-1aa444d13734\">\n",
              "    <style>\n",
              "      .colab-df-generate {\n",
              "        background-color: #E8F0FE;\n",
              "        border: none;\n",
              "        border-radius: 50%;\n",
              "        cursor: pointer;\n",
              "        display: none;\n",
              "        fill: #1967D2;\n",
              "        height: 32px;\n",
              "        padding: 0 0 0 0;\n",
              "        width: 32px;\n",
              "      }\n",
              "\n",
              "      .colab-df-generate:hover {\n",
              "        background-color: #E2EBFA;\n",
              "        box-shadow: 0px 1px 2px rgba(60, 64, 67, 0.3), 0px 1px 3px 1px rgba(60, 64, 67, 0.15);\n",
              "        fill: #174EA6;\n",
              "      }\n",
              "\n",
              "      [theme=dark] .colab-df-generate {\n",
              "        background-color: #3B4455;\n",
              "        fill: #D2E3FC;\n",
              "      }\n",
              "\n",
              "      [theme=dark] .colab-df-generate:hover {\n",
              "        background-color: #434B5C;\n",
              "        box-shadow: 0px 1px 3px 1px rgba(0, 0, 0, 0.15);\n",
              "        filter: drop-shadow(0px 1px 2px rgba(0, 0, 0, 0.3));\n",
              "        fill: #FFFFFF;\n",
              "      }\n",
              "    </style>\n",
              "    <button class=\"colab-df-generate\" onclick=\"generateWithVariable('train_dataset')\"\n",
              "            title=\"Generate code using this dataframe.\"\n",
              "            style=\"display:none;\">\n",
              "\n",
              "  <svg xmlns=\"http://www.w3.org/2000/svg\" height=\"24px\"viewBox=\"0 0 24 24\"\n",
              "       width=\"24px\">\n",
              "    <path d=\"M7,19H8.4L18.45,9,17,7.55,7,17.6ZM5,21V16.75L18.45,3.32a2,2,0,0,1,2.83,0l1.4,1.43a1.91,1.91,0,0,1,.58,1.4,1.91,1.91,0,0,1-.58,1.4L9.25,21ZM18.45,9,17,7.55Zm-12,3A5.31,5.31,0,0,0,4.9,8.1,5.31,5.31,0,0,0,1,6.5,5.31,5.31,0,0,0,4.9,4.9,5.31,5.31,0,0,0,6.5,1,5.31,5.31,0,0,0,8.1,4.9,5.31,5.31,0,0,0,12,6.5,5.46,5.46,0,0,0,6.5,12Z\"/>\n",
              "  </svg>\n",
              "    </button>\n",
              "    <script>\n",
              "      (() => {\n",
              "      const buttonEl =\n",
              "        document.querySelector('#id_d5742bf5-3418-4b10-91a8-1aa444d13734 button.colab-df-generate');\n",
              "      buttonEl.style.display =\n",
              "        google.colab.kernel.accessAllowed ? 'block' : 'none';\n",
              "\n",
              "      buttonEl.onclick = () => {\n",
              "        google.colab.notebook.generateWithVariable('train_dataset');\n",
              "      }\n",
              "      })();\n",
              "    </script>\n",
              "  </div>\n",
              "\n",
              "    </div>\n",
              "  </div>\n"
            ],
            "application/vnd.google.colaboratory.intrinsic+json": {
              "type": "dataframe",
              "variable_name": "train_dataset",
              "summary": "{\n  \"name\": \"train_dataset\",\n  \"rows\": 43529,\n  \"fields\": [\n    {\n      \"column\": \"text\",\n      \"properties\": {\n        \"dtype\": \"string\",\n        \"num_unique_values\": 43447,\n        \"samples\": [\n          \"My dad died on Friday, and ever since I\\u2019ve been listening to the last voicemail he left me over and over again. [deleted]\",\n          \"After 18 years I came out to my Dad about some shady things that happened to me when I was younger. I'm in my upper 20s and this happened when I was 11 or so,can't remember the exact age. It was me and my cousin and \\\"step grandma\\\" who is younger than my mom,and I just remember we were on the verge of puberty (me and my cousin). Me and my Dad were having a conversation about how we hope they don't want to get together for thanksgiving because they're just immoral terrible people and have done so many people wrong,family included. They're all about money and couldn't ever give a shit about keeping a real genuine relationship with family when it's ll said and done. (It's my Mom's father btw ,the grandpa I'm talking about). For example,when I was a kid,me and my brother and parents didn't have much at the time. We got by because my parents worked their asses off and did whatever they had to do to provide for us. My Dad did some work for my Papaw (yeah I'm from the south lol) with the promise that we could keep our acre with our singlewide trailer for a guaranteed place to live and call our own for the time being. Turned out taking m Papaw's word was a mistake. Once the work was done,he acted like there was never an agreement and gave us a couple months notice and kicked us out. He done that type of shit all the time to multiple people that took him for his word. He's a piece of shit. My parents made sure we had a place to go though,they did what they had to do. They worked their asses off til eventually years later we were comfortable and bought a house and we had some things. Not much,but I'm very grateful for what we did have and what they did to give me and my brother the best childhood they possibly could. They're amazing people,perfect in my eyes. Anyway,figured I'd provide a little context.\\n\\nJust about an hour ago I was talking to my Dad and they came up in the convo and for some reason I just blurted out the thing this post is about. I told him about a time me and my cousin were staying the night and my \\\"step grandma\\\" (idk what to refer to her as because it's so weird to me that she was so young) brought up playing strip poker with me and my cousin. I think we were playing Go Fish when she brought up the idea. I felt a very weird vibe like this wasn't right. I thought she was joking at first and had a hard time understanding what was really going on. This was the first time anything weird like this had happened ever in all the weekends I'd spent staying the night over there. My Papaw wasn't there at the time,though looking back in hindsight he's a perverted piece of shit also,for reasons I won't get into now to avoid wasting time and to stay on topic.\\n\\n(It could have been strip Go fish? I can't really recall) I thought it was a joke until (lets call her Angie) lost a hand and started taking her shirt off. I could tell then she was serious and that if I or my cousin had lost a hand,We'd be expected to undress also. Before she could get her shirt off I just kind of freaked out saying \\\"nah nah nah I dont wanna do this\\\" and sarted to leave the room. She looked at me  like...I can't really explain the look. A worried kinda look like \\\"oh shit he might tell somebody because he sees and senses this is wrong\\\"...the best way I can describe it. She was somebody I trusted,somebody I expected to look out for me. And it really mainly in hindsight fucks me up because I didn't really understand it at the time. Now that I'm older I can see the intentions and direction things would have gone had I not spoke up and been lucky enough for it to have ended there. I have this deep resentment for her that makes me sick to my stomach. A part of me fantasizes about wringing her neck until her eyes bulge from her sockets for being such a sick f***. I'd never do it of course. It just messes with me on a reaally deep level.\\n\\nTo be clear,my parents had no reason to think I would be put in that situation by allowing me to spend the night over there.\\n\\nAnyway the reason for this post,I just told my Dad about it. I had no idea it would bring feelings to the surface. Rage,amplied my already bad anxiety,anger,resentment I puked not long after and have been shaking. A big part of me regrets bringing it up because nothing really came of it after I shut it down and I feel like I probably made him feel like he failed me somehow as a parent by me having been in that situation. I feel like it was unnecessary and should have kept it bottled up because I feel the stress and hurt wasn't necessary. I told my girlfriend and brother about it and feel I should have kept it at that. My Mom and Dad are amazing people and parents that would do anything to protect us. I'm having a very hard time dealing with having told him.\\n\\nA big takeaway I've got from this is,because as mild as my situation was that makes me feel as shit as I feel,I can't imagine the pain and suffering others must feel that go through full on actual abuse. To anyone out there that's reading this that are dealing with something like that,my heart goes out to you and I hope you find the help you need and DESERVE. You have value and fuck those that violated you and caused you live with the shit you've been dealing with just because they're sick fucking perverts took a huge part of you and replaced it with this monster you have to battle with every day of your life. Sorry, I got a little carried away but my heart sincerely goes out to you all.\\n\\nIt's weird,Telling my Dad that brought this to the surface and released what I had bottled up and made me feel it..the violation and things I have to work through now..It's gotta be for the best.\\n\\nThanks for reading. \",\n          \"Severe anxiety...but why? So three days ago I suffered a severe anxiety attack. I've never had anything this bad. I've had them before but never to this level.\\n\\n I was trembling all over, felt like I was about to die, couldn't breathe, and I couldnt walk straight. I went to the urgent care who told me to just go home and relax.  Since then I've had migraines, trembling all over and dizziness in addition to the feeling of massive panic. \\n\\nI usually know why I have panic attacks but this one was too severe and just came out of nowhere. \\n\\nSo I was wondering, how do you pinpoint the reason you're having a major episode? I mean I'm sitting in the house I grew up in just chillin and yet I'm terrified. \\n\\nThe only thing I can think of is the position my life is in right now, my birthday is Sunday and I'm pushing 37,  I had to move in with my mom, I left my mentally abusive ex and have been single ever since. I pretty much know I'll be alone for the rest of my life and yea I've been thinking about it but how the hell would that cause all this?\"\n        ],\n        \"semantic_type\": \"\",\n        \"description\": \"\"\n      }\n    },\n    {\n      \"column\": \"label\",\n      \"properties\": {\n        \"dtype\": \"category\",\n        \"num_unique_values\": 5,\n        \"samples\": [\n          \"bipolar\",\n          \"off_my_chest\",\n          \"depression\"\n        ],\n        \"semantic_type\": \"\",\n        \"description\": \"\"\n      }\n    }\n  ]\n}"
            }
          },
          "metadata": {},
          "execution_count": 33
        }
      ]
    },
    {
      "cell_type": "markdown",
      "source": [
        "# Data Preprocessing"
      ],
      "metadata": {
        "id": "QbcqlmBlxpXl"
      }
    },
    {
      "cell_type": "code",
      "source": [
        "# Load both datasets\n",
        "train_df = train_dataset\n",
        "test_df = test_dataset\n",
        "\n",
        "print(\"Training Dataset Shape:\", train_df.shape)\n",
        "print(\"\\\n",
        "Training Dataset Label Distribution:\")\n",
        "print(train_df['label'].value_counts())\n",
        "\n",
        "print(\"\\\n",
        "Test Dataset Shape:\", test_df.shape)\n",
        "print(\"\\\n",
        "Test Dataset Label Distribution:\")\n",
        "print(test_df['label'].value_counts())"
      ],
      "metadata": {
        "colab": {
          "base_uri": "https://localhost:8080/"
        },
        "collapsed": true,
        "id": "41qtP5s-1YEz",
        "outputId": "8b8a44bb-f854-4e06-e56f-24515852d517"
      },
      "execution_count": null,
      "outputs": [
        {
          "output_type": "stream",
          "name": "stdout",
          "text": [
            "Training Dataset Shape: (43529, 2)\n",
            "Training Dataset Label Distribution:\n",
            "label\n",
            "depression       14972\n",
            "suicide_watch     8164\n",
            "anxiety           7644\n",
            "off_my_chest      6597\n",
            "bipolar           6152\n",
            "Name: count, dtype: int64\n",
            "Test Dataset Shape: (10883, 2)\n",
            "Test Dataset Label Distribution:\n",
            "label\n",
            "depression       3774\n",
            "suicide_watch    2018\n",
            "anxiety          1911\n",
            "off_my_chest     1687\n",
            "bipolar          1493\n",
            "Name: count, dtype: int64\n"
          ]
        }
      ]
    },
    {
      "cell_type": "code",
      "source": [
        "import re\n",
        "\n",
        "def clean_text(text):\n",
        "    # Remove special characters and extra whitespace, convert to lowercase\n",
        "    text = re.sub(r'[^\\w\\s]', '', text)  # Remove special characters\n",
        "    text = re.sub(r'\\s+', ' ', text)  # Replace multiple spaces with a single space\n",
        "    return text.strip().lower()\n",
        "\n",
        "# Apply the cleaning function to the 'text' column in both datasets\n",
        "train_df['cleaned_text'] = train_df['text'].apply(clean_text)\n",
        "test_df['cleaned_text'] = test_df['text'].apply(clean_text)\n",
        "\n",
        "# Display the first few rows of the cleaned training data\n",
        "print(train_df[['cleaned_text', 'label']].head())\n",
        "\n",
        "# Display the first few rows of the cleaned test data\n",
        "print(test_df[['cleaned_text', 'label']].head())"
      ],
      "metadata": {
        "colab": {
          "base_uri": "https://localhost:8080/"
        },
        "id": "YOsN_Ijh8zYD",
        "outputId": "d8e969bf-52c6-4ca5-9bd8-4290a8f5bcd7"
      },
      "execution_count": null,
      "outputs": [
        {
          "output_type": "stream",
          "name": "stdout",
          "text": [
            "                                        cleaned_text          label\n",
            "0  wanting to skip or postpone my exam my exam is...        anxiety\n",
            "1  do other bipolar folks have problems with subs...        bipolar\n",
            "2  wanted to share some revelations i just had to...     depression\n",
            "3  i feel deader than dead i find that i dont hav...  suicide_watch\n",
            "4  im pretty sure my friends suicidal what do i d...  suicide_watch\n",
            "                                        cleaned_text          label\n",
            "0  suicidal but wont do it just need someone to t...  suicide_watch\n",
            "1  a lie a lie ruined my life a lie a lie ruined ...   off_my_chest\n",
            "2  suicidal thoughts and venting i would first li...  suicide_watch\n",
            "3  guided meditation disclaimer i am in no way sa...        bipolar\n",
            "4  effexor day 1 is going badly good news so the ...        anxiety\n"
          ]
        }
      ]
    },
    {
      "cell_type": "code",
      "source": [
        "# prompt: remove rows the the 'label' of 'off_my_chest' for both the train_df and test_df\n",
        "\n",
        "train_df = train_df[train_df['label'] != 'off_my_chest']\n",
        "test_df = test_df[test_df['label'] != 'off_my_chest']"
      ],
      "metadata": {
        "id": "urEWBLeDsQMZ"
      },
      "execution_count": null,
      "outputs": []
    },
    {
      "cell_type": "markdown",
      "source": [
        "# Feature Extraction"
      ],
      "metadata": {
        "id": "TKLpyLD4xutJ"
      }
    },
    {
      "cell_type": "markdown",
      "source": [
        "## TF-IDF (Sparse Vectorization)"
      ],
      "metadata": {
        "id": "Rzq1pTaVxxfQ"
      }
    },
    {
      "cell_type": "code",
      "source": [
        "from sklearn.feature_extraction.text import TfidfVectorizer\n",
        "# Initialize the TfidfVectorizer\n",
        "tfidf_vectorizer = TfidfVectorizer(stop_words='english', max_features=10000)\n",
        "\n",
        "# Fit and transform the training data, transform the test data\n",
        "X_train_tfidf = tfidf_vectorizer.fit_transform(train_df['cleaned_text'])\n",
        "X_test_tfidf = tfidf_vectorizer.transform(test_df['cleaned_text'])\n",
        "\n",
        "# Display the shape of the TF-IDF vectorized data\n",
        "print(\"Training data shape (TF-IDF):\", X_train_tfidf.shape)\n",
        "print(\"Test data shape (TF-IDF):\", X_test_tfidf.shape)"
      ],
      "metadata": {
        "colab": {
          "base_uri": "https://localhost:8080/"
        },
        "id": "G9wG-vvO8341",
        "outputId": "f4d67ad5-73a2-4d9c-a27a-5ccc23a57023"
      },
      "execution_count": null,
      "outputs": [
        {
          "output_type": "stream",
          "name": "stdout",
          "text": [
            "Training data shape (TF-IDF): (36932, 10000)\n",
            "Test data shape (TF-IDF): (9196, 10000)\n"
          ]
        }
      ]
    },
    {
      "cell_type": "code",
      "source": [
        "# First, let's visualize the class imbalance\n",
        "import matplotlib.pyplot as plt\n",
        "import seaborn as sns\n",
        "\n",
        "plt.figure(figsize=(10, 6))\n",
        "sns.countplot(data=train_df, y='label')\n",
        "plt.title('Class Distribution in Training Data')\n",
        "plt.show()\n",
        "\n",
        "# Calculate the class weights\n",
        "from sklearn.utils.class_weight import compute_class_weight\n",
        "class_weights = compute_class_weight('balanced',\n",
        "                                   classes=train_df['label'].unique(),\n",
        "                                   y=train_df['label'])\n",
        "weights_dict = dict(zip(train_df['label'].unique(), class_weights))\n",
        "print(\"\\\n",
        "Class Weights:\")\n",
        "for label, weight in weights_dict.items():\n",
        "    print(f\"{label}: {weight:.3f}\")"
      ],
      "metadata": {
        "colab": {
          "base_uri": "https://localhost:8080/",
          "height": 649
        },
        "id": "bSJPTdm49nBJ",
        "outputId": "f5e49b21-cd92-4ad5-cc8c-3f7633b11549"
      },
      "execution_count": null,
      "outputs": [
        {
          "output_type": "display_data",
          "data": {
            "text/plain": [
              "<Figure size 1000x600 with 1 Axes>"
            ],
            "image/png": "[encoded data removed]"
          },
          "metadata": {}
        },
        {
          "output_type": "stream",
          "name": "stdout",
          "text": [
            "Class Weights:\n",
            "anxiety: 1.208\n",
            "bipolar: 1.501\n",
            "depression: 0.617\n",
            "suicide_watch: 1.131\n"
          ]
        }
      ]
    },
    {
      "cell_type": "markdown",
      "source": [
        "## Word2Vec\n",
        "https://www.kaggle.com/code/sugataghosh/e-commerce-text-classification-tf-idf-word2vec"
      ],
      "metadata": {
        "id": "F_KVn-Uwx98N"
      }
    },
    {
      "cell_type": "code",
      "source": [
        "import re\n",
        "from nltk.corpus import stopwords\n",
        "import gensim\n",
        "from gensim.models import Word2Vec\n",
        "import multiprocessing"
      ],
      "metadata": {
        "id": "-XGSsPRzyBG7"
      },
      "execution_count": null,
      "outputs": []
    },
    {
      "cell_type": "code",
      "source": [
        "!pip install gdown"
      ],
      "metadata": {
        "colab": {
          "base_uri": "https://localhost:8080/"
        },
        "id": "1gFLCudXF_l-",
        "outputId": "8846e3fd-a62e-4cc5-b98a-c047e5e63822"
      },
      "execution_count": null,
      "outputs": [
        {
          "output_type": "stream",
          "name": "stdout",
          "text": [
            "Requirement already satisfied: gdown in /usr/local/lib/python3.10/dist-packages (5.2.0)\n",
            "Requirement already satisfied: beautifulsoup4 in /usr/local/lib/python3.10/dist-packages (from gdown) (4.12.3)\n",
            "Requirement already satisfied: filelock in /usr/local/lib/python3.10/dist-packages (from gdown) (3.16.1)\n",
            "Requirement already satisfied: requests[socks] in /usr/local/lib/python3.10/dist-packages (from gdown) (2.32.3)\n",
            "Requirement already satisfied: tqdm in /usr/local/lib/python3.10/dist-packages (from gdown) (4.66.6)\n",
            "Requirement already satisfied: soupsieve>1.2 in /usr/local/lib/python3.10/dist-packages (from beautifulsoup4->gdown) (2.6)\n",
            "Requirement already satisfied: charset-normalizer<4,>=2 in /usr/local/lib/python3.10/dist-packages (from requests[socks]->gdown) (3.4.0)\n",
            "Requirement already satisfied: idna<4,>=2.5 in /usr/local/lib/python3.10/dist-packages (from requests[socks]->gdown) (3.10)\n",
            "Requirement already satisfied: urllib3<3,>=1.21.1 in /usr/local/lib/python3.10/dist-packages (from requests[socks]->gdown) (2.2.3)\n",
            "Requirement already satisfied: certifi>=2017.4.17 in /usr/local/lib/python3.10/dist-packages (from requests[socks]->gdown) (2024.8.30)\n",
            "Requirement already satisfied: PySocks!=1.5.7,>=1.5.6 in /usr/local/lib/python3.10/dist-packages (from requests[socks]->gdown) (1.7.1)\n"
          ]
        }
      ]
    },
    {
      "cell_type": "code",
      "source": [
        "import gdown\n",
        "\n",
        "# Download weights from official source; mirror: https://github.com/mmihaltz/word2vec-GoogleNews-vectors\n",
        "file_id = \"0B7XkCwpI5KDYNlNUTTlSS21pQmM\"\n",
        "url = f\"https://drive.google.com/uc?id={file_id}&confirm=t\"\n",
        "target_download_path = \"/content/GoogleNews-vectors-negative300.bin.gz\"\n",
        "\n",
        "# Download the file, if it hasn't already been downloaded\n",
        "if not os.path.exists(target_download_path):\n",
        "  gdown.download(url, target_download_path, quiet=False)"
      ],
      "metadata": {
        "colab": {
          "base_uri": "https://localhost:8080/"
        },
        "id": "5whtnSmdGWyy",
        "outputId": "6b71f6f9-fcb7-4f8a-b078-5b4b58ea1f18"
      },
      "execution_count": null,
      "outputs": [
        {
          "output_type": "stream",
          "name": "stderr",
          "text": [
            "Downloading...\n",
            "From: https://drive.google.com/uc?id=0B7XkCwpI5KDYNlNUTTlSS21pQmM&confirm=t\n",
            "To: /content/GoogleNews-vectors-negative300.bin.gz\n",
            "100%|██████████| 1.65G/1.65G [00:37<00:00, 44.2MB/s]\n"
          ]
        }
      ]
    },
    {
      "cell_type": "code",
      "source": [
        "!gunzip -f /content/GoogleNews-vectors-negative300.bin.gz"
      ],
      "metadata": {
        "id": "jEMliLgrGlus"
      },
      "execution_count": null,
      "outputs": []
    },
    {
      "cell_type": "code",
      "source": [
        "# Loading the pre-trained Word2Vec model\n",
        "word2vec_path = '/content/GoogleNews-vectors-negative300.bin'\n",
        "word2vec = gensim.models.KeyedVectors.load_word2vec_format(word2vec_path, binary = True)\n",
        "\n"
      ],
      "metadata": {
        "id": "K5FDhvLWyJJy"
      },
      "execution_count": null,
      "outputs": []
    },
    {
      "cell_type": "code",
      "source": [
        "import numpy as np\n",
        "\n",
        "# Word2Vec functions from https://www.kaggle.com/code/rajmehra03/a-complete-text-classfication-guide-word2vec-lstm\n",
        "def get_average_word2vec(tokens_list, vector, generate_missing = False, k = 300):\n",
        "    if len(tokens_list) < 1:\n",
        "        return np.zeros(k)\n",
        "    if generate_missing:\n",
        "        vectorized = [vector[word] if word in vector else np.random.rand(k) for word in tokens_list]\n",
        "    else:\n",
        "        vectorized = [vector[word] if word in vector else np.zeros(k) for word in tokens_list]\n",
        "    length = len(vectorized)\n",
        "    summed = np.sum(vectorized, axis = 0)\n",
        "    averaged = np.divide(summed, length)\n",
        "    return averaged\n",
        "\n",
        "def get_word2vec_embeddings(vectors, tokens, generate_missing = False):\n",
        "    embeddings = tokens.apply(lambda x: get_average_word2vec(x, vectors, generate_missing = generate_missing))\n",
        "    return list(embeddings)"
      ],
      "metadata": {
        "id": "EPxU7uIi_zVf"
      },
      "execution_count": null,
      "outputs": []
    },
    {
      "cell_type": "code",
      "source": [
        "X_train_embed = np.vstack(get_word2vec_embeddings(word2vec, train_df['cleaned_text']))\n",
        "X_test_embed = np.vstack(get_word2vec_embeddings(word2vec, test_df['cleaned_text']))\n"
      ],
      "metadata": {
        "id": "dsI4SCfy_15v"
      },
      "execution_count": null,
      "outputs": []
    },
    {
      "cell_type": "code",
      "source": [
        "# Inspect shape\n",
        "\n",
        "print(f\"Shape of X_train_embed: {X_train_embed.shape, len(X_train_embed)}\")\n",
        "print(f\"Shape of X_test_embed: {X_test_embed.shape, len(X_test_embed)}\")"
      ],
      "metadata": {
        "colab": {
          "base_uri": "https://localhost:8080/"
        },
        "id": "s3n8wQ9nPNz8",
        "outputId": "4d2d0c20-25ed-481d-aae0-678865f508b5"
      },
      "execution_count": null,
      "outputs": [
        {
          "output_type": "stream",
          "name": "stdout",
          "text": [
            "Shape of X_train_embed: ((36932, 300), 36932)\n",
            "Shape of X_test_embed: ((9196, 300), 9196)\n"
          ]
        }
      ]
    },
    {
      "cell_type": "markdown",
      "source": [],
      "metadata": {
        "id": "KhrwmwvYOcxs"
      }
    },
    {
      "cell_type": "markdown",
      "source": [
        "# Resampling"
      ],
      "metadata": {
        "id": "2VGK58zAxi0A"
      }
    },
    {
      "cell_type": "code",
      "source": [
        "%pip install -U imbalanced-learn\n",
        "from imblearn.over_sampling import SMOTE\n",
        "import pandas as pd\n",
        "\n",
        "\n",
        "# Initialize SMOTE\n",
        "smote = SMOTE(random_state=42)\n",
        "\n",
        "# Apply SMOTE to the training data\n",
        "# 1 - Apply SMOTE to TF-IDF data\n",
        "X_train_balanced, y_train_balanced = smote.fit_resample(X_train_tfidf, train_df['label'])\n",
        "\n",
        "# 2 - Apply SMOTE to Word2Vec embeddings\n",
        "X_train_embed_balanced, y_train_embed_balanced = smote.fit_resample(X_train_embed, train_df['label'])"
      ],
      "metadata": {
        "colab": {
          "base_uri": "https://localhost:8080/"
        },
        "id": "fV-BPpBk9pN5",
        "outputId": "0a8f2cac-dcc6-4572-d60b-7e4053b290ce"
      },
      "execution_count": null,
      "outputs": [
        {
          "output_type": "stream",
          "name": "stdout",
          "text": [
            "Requirement already satisfied: imbalanced-learn in /usr/local/lib/python3.10/dist-packages (0.12.4)\n",
            "Requirement already satisfied: numpy>=1.17.3 in /usr/local/lib/python3.10/dist-packages (from imbalanced-learn) (1.26.4)\n",
            "Requirement already satisfied: scipy>=1.5.0 in /usr/local/lib/python3.10/dist-packages (from imbalanced-learn) (1.13.1)\n",
            "Requirement already satisfied: scikit-learn>=1.0.2 in /usr/local/lib/python3.10/dist-packages (from imbalanced-learn) (1.5.2)\n",
            "Requirement already satisfied: joblib>=1.1.1 in /usr/local/lib/python3.10/dist-packages (from imbalanced-learn) (1.4.2)\n",
            "Requirement already satisfied: threadpoolctl>=2.0.0 in /usr/local/lib/python3.10/dist-packages (from imbalanced-learn) (3.5.0)\n"
          ]
        }
      ]
    },
    {
      "cell_type": "code",
      "source": [
        "# Display the new class distribution\n",
        "print(\"Balanced Training Data Shape:\", X_train_balanced.shape)\n",
        "print(\"\\\n",
        "Balanced Class Distribution for TF-IDF:\")\n",
        "print(pd.Series(y_train_balanced).value_counts())\n",
        "\n",
        "print(\"Balanced Training Data Shape (Word2Vec):\", np.vstack(X_train_embed_balanced).shape)\n",
        "\n",
        "print(\"\\\n",
        "Balanced Class Distribution for Word2Vec:\")\n",
        "print(pd.Series(y_train_embed_balanced).value_counts())\n"
      ],
      "metadata": {
        "colab": {
          "base_uri": "https://localhost:8080/"
        },
        "id": "abUksM4lRTxJ",
        "outputId": "7336da53-aa13-41e4-ec4e-d043da82bfdd"
      },
      "execution_count": null,
      "outputs": [
        {
          "output_type": "stream",
          "name": "stdout",
          "text": [
            "Balanced Training Data Shape: (59888, 10000)\n",
            "Balanced Class Distribution for TF-IDF:\n",
            "label\n",
            "anxiety          14972\n",
            "bipolar          14972\n",
            "depression       14972\n",
            "suicide_watch    14972\n",
            "Name: count, dtype: int64\n",
            "Balanced Training Data Shape (Word2Vec): (59888, 300)\n",
            "Balanced Class Distribution for Word2Vec:\n",
            "label\n",
            "anxiety          14972\n",
            "bipolar          14972\n",
            "depression       14972\n",
            "suicide_watch    14972\n",
            "Name: count, dtype: int64\n"
          ]
        }
      ]
    },
    {
      "cell_type": "code",
      "source": [
        "# Since SMOTE is the same order; they should be the same\n",
        "(y_train_embed_balanced == y_train_balanced).value_counts()"
      ],
      "metadata": {
        "colab": {
          "base_uri": "https://localhost:8080/",
          "height": 145
        },
        "id": "3pvai922btU0",
        "outputId": "19fb68b9-8257-4ec4-e31c-9c03b6f13d55"
      },
      "execution_count": null,
      "outputs": [
        {
          "output_type": "execute_result",
          "data": {
            "text/plain": [
              "label\n",
              "True    59888\n",
              "Name: count, dtype: int64"
            ],
            "text/html": [
              "<div>\n",
              "<style scoped>\n",
              "    .dataframe tbody tr th:only-of-type {\n",
              "        vertical-align: middle;\n",
              "    }\n",
              "\n",
              "    .dataframe tbody tr th {\n",
              "        vertical-align: top;\n",
              "    }\n",
              "\n",
              "    .dataframe thead th {\n",
              "        text-align: right;\n",
              "    }\n",
              "</style>\n",
              "<table border=\"1\" class=\"dataframe\">\n",
              "  <thead>\n",
              "    <tr style=\"text-align: right;\">\n",
              "      <th></th>\n",
              "      <th>count</th>\n",
              "    </tr>\n",
              "    <tr>\n",
              "      <th>label</th>\n",
              "      <th></th>\n",
              "    </tr>\n",
              "  </thead>\n",
              "  <tbody>\n",
              "    <tr>\n",
              "      <th>True</th>\n",
              "      <td>59888</td>\n",
              "    </tr>\n",
              "  </tbody>\n",
              "</table>\n",
              "</div><br><label><b>dtype:</b> int64</label>"
            ]
          },
          "metadata": {},
          "execution_count": 49
        }
      ]
    },
    {
      "cell_type": "markdown",
      "source": [
        "## Classification Model Training"
      ],
      "metadata": {
        "id": "Guz1vHBrRbm4"
      }
    },
    {
      "cell_type": "code",
      "source": [
        "from sklearn.ensemble import RandomForestClassifier\n",
        "from sklearn.svm import SVC\n",
        "from sklearn.linear_model import LogisticRegression\n",
        "from sklearn.metrics import accuracy_score, roc_auc_score, precision_score, recall_score, f1_score\n",
        "from sklearn.preprocessing import LabelBinarizer, LabelEncoder\n",
        "from sklearn.model_selection import train_test_split\n",
        "from xgboost import XGBClassifier\n",
        "\n",
        "# Analyze a viable subset of the dataset\n",
        "# X_train_balanced, _, y_train_balanced, _ = train_test_split(X_train_balanced, y_train_balanced, train_size=0.8, random_state=42)\n",
        "\n",
        "label_encoder = LabelEncoder()\n",
        "y_train_encoded = label_encoder.fit_transform(y_train_balanced)\n",
        "y_test_encoded = label_encoder.transform(test_df['label'])\n",
        "\n",
        "\n",
        "# Initialize models\n",
        "rf_model = RandomForestClassifier(n_jobs=-1, random_state=42)\n",
        "svm_model = SVC(probability=True, random_state=42)\n",
        "logreg_model = LogisticRegression(max_iter=1000, random_state=42, n_jobs=-1)\n",
        "xgb_model = XGBClassifier(\n",
        "    learning_rate=0.05,\n",
        "    n_estimators=500,\n",
        "    max_depth=5,\n",
        "    min_child_weight=3,\n",
        "    subsample=0.8,\n",
        "    colsample_bytree=0.8,\n",
        "    gamma=1,\n",
        "    reg_alpha=0.5,\n",
        "    reg_lambda=1,\n",
        "    objective='binary:logistic',  # or 'multi:softmax' for multiclass\n",
        "    eval_metric='logloss',  # suitable for classification\n",
        "    use_label_encoder=False,\n",
        "    n_jobs=-1\n",
        ")"
      ],
      "metadata": {
        "id": "uku_iYLd9461"
      },
      "execution_count": null,
      "outputs": []
    },
    {
      "cell_type": "code",
      "source": [
        "from datetime import datetime"
      ],
      "metadata": {
        "id": "YnXVpVAnQ7JA"
      },
      "execution_count": null,
      "outputs": []
    },
    {
      "cell_type": "code",
      "source": [
        "import copy\n",
        "\n",
        "train_feature_sets = {\n",
        "    'TF-IDF': X_train_balanced,\n",
        "    'Word2Vec': X_train_embed_balanced\n",
        "}\n",
        "\n",
        "test_feature_sets = {\n",
        "    'TF-IDF': X_test_tfidf,\n",
        "    'Word2Vec': X_test_embed\n",
        "}\n",
        "\n",
        "models = {\n",
        "    'Random Forest': rf_model,\n",
        "    'Logistic Regression': logreg_model,\n",
        "    'XGBoost': xgb_model\n",
        "}\n",
        "\n",
        "trained_models = {}\n",
        "\n",
        "# Binarize labels for AUROC\n",
        "lb = LabelBinarizer()\n",
        "y_test_binarized = lb.fit_transform(test_df['label'])\n",
        "\n",
        "# Fraction to use for training\n",
        "fraction = 1\n",
        "\n",
        "# For each feature set, train each model to determine which is best performing\n",
        "for feature_set_name, X_train_fset in train_feature_sets.items():\n",
        "  if fraction != 1:\n",
        "    if hasattr(X_train_fset, \"shape\"):  # Works for both sparse matrices and numpy arrays\n",
        "        subset_size = int(X_train_fset.shape[0] * fraction)\n",
        "    else:\n",
        "        subset_size = int(len(X_train_fset) * fraction)\n",
        "\n",
        "    # Create the subset of data\n",
        "    X_train_subset = X_train_fset[:subset_size]\n",
        "    y_train_subset = y_train_encoded[:subset_size]\n",
        "  else:\n",
        "    X_train_subset = X_train_fset\n",
        "    y_train_subset = y_train_encoded\n",
        "\n",
        "  for model_name, model in models.items():\n",
        "    print(f\"[{feature_set_name}] Training {model_name} model on {feature_set_name} feature set... ({datetime.now()})\")\n",
        "    model.fit(X_train_subset, y_train_subset)\n",
        "\n",
        "    combined_model_name = f\"{feature_set_name}_{model_name}\"\n",
        "\n",
        "    trained_models[combined_model_name] = copy.deepcopy(model)\n",
        "\n",
        "    print(f\"Saved model {combined_model_name} to data dictionary.\")\n",
        "\n",
        "# Evaluate the accuracy, F1 score and binary AUROC for each multi-class classification model\n",
        "results = {} # modelname_featureset: dict of F1 score, AUROC, accuracy\n"
      ],
      "metadata": {
        "colab": {
          "base_uri": "https://localhost:8080/"
        },
        "id": "egJcjamlb95R",
        "outputId": "ffcd8aac-148e-4509-fe17-e59651787f07"
      },
      "execution_count": null,
      "outputs": [
        {
          "output_type": "stream",
          "name": "stdout",
          "text": [
            "[TF-IDF] Training Random Forest model on TF-IDF feature set... (2024-11-13 10:36:37.413963)\n",
            "Saved model TF-IDF_Random Forest to data dictionary.\n",
            "[TF-IDF] Training Logistic Regression model on TF-IDF feature set... (2024-11-13 10:37:54.462192)\n",
            "Saved model TF-IDF_Logistic Regression to data dictionary.\n",
            "[TF-IDF] Training XGBoost model on TF-IDF feature set... (2024-11-13 10:38:03.309119)\n"
          ]
        },
        {
          "output_type": "stream",
          "name": "stderr",
          "text": [
            "/usr/local/lib/python3.10/dist-packages/xgboost/core.py:158: UserWarning: [10:38:04] WARNING: /workspace/src/learner.cc:740: \n",
            "Parameters: { \"use_label_encoder\" } are not used.\n",
            "\n",
            "  warnings.warn(smsg, UserWarning)\n"
          ]
        },
        {
          "output_type": "stream",
          "name": "stdout",
          "text": [
            "Saved model TF-IDF_XGBoost to data dictionary.\n",
            "[Word2Vec] Training Random Forest model on Word2Vec feature set... (2024-11-13 10:47:08.733526)\n",
            "Saved model Word2Vec_Random Forest to data dictionary.\n",
            "[Word2Vec] Training Logistic Regression model on Word2Vec feature set... (2024-11-13 10:47:41.520261)\n",
            "Saved model Word2Vec_Logistic Regression to data dictionary.\n",
            "[Word2Vec] Training XGBoost model on Word2Vec feature set... (2024-11-13 10:47:54.776453)\n"
          ]
        },
        {
          "output_type": "stream",
          "name": "stderr",
          "text": [
            "/usr/local/lib/python3.10/dist-packages/xgboost/core.py:158: UserWarning: [10:47:55] WARNING: /workspace/src/learner.cc:740: \n",
            "Parameters: { \"use_label_encoder\" } are not used.\n",
            "\n",
            "  warnings.warn(smsg, UserWarning)\n"
          ]
        },
        {
          "output_type": "stream",
          "name": "stdout",
          "text": [
            "Saved model Word2Vec_XGBoost to data dictionary.\n"
          ]
        }
      ]
    },
    {
      "cell_type": "code",
      "source": [
        "print(test_feature_sets.keys())\n",
        "print(trained_models.keys())\n",
        "\n",
        "# For each trained_model, print expected inputs/outputs\n",
        "for model_name, model in trained_models.items():\n",
        "    print(f\"\\nModel: {model_name}\")\n",
        "    try:\n",
        "        # Check if the model has a n_features_in_ attribute (common in scikit-learn models)\n",
        "        if hasattr(model, \"n_features_in_\"):\n",
        "            n_features = model.n_features_in_\n",
        "            print(f\"Expected number of features for {model_name}: {n_features}\")\n",
        "\n",
        "            # Optionally, you can test prediction with a dummy input\n",
        "            sample_input = np.random.rand(1, n_features)\n",
        "            model.predict(sample_input)\n",
        "            print(f\"Sample input shape {sample_input.shape} is compatible with {model_name}\")\n",
        "        else:\n",
        "            print(f\"{model_name} does not have 'n_features_in_' attribute; input format may need manual inspection.\")\n",
        "    except Exception as e:\n",
        "        print(f\"Error encountered for {model_name} with dummy input: {e}\")"
      ],
      "metadata": {
        "id": "wgs-UX270g9H",
        "colab": {
          "base_uri": "https://localhost:8080/"
        },
        "outputId": "15d4a696-95b7-4483-e0cc-2806918bd709"
      },
      "execution_count": null,
      "outputs": [
        {
          "output_type": "stream",
          "name": "stdout",
          "text": [
            "dict_keys(['TF-IDF', 'Word2Vec'])\n",
            "dict_keys(['TF-IDF_Random Forest', 'TF-IDF_Logistic Regression', 'TF-IDF_XGBoost', 'Word2Vec_Random Forest', 'Word2Vec_Logistic Regression', 'Word2Vec_XGBoost'])\n",
            "\n",
            "Model: TF-IDF_Random Forest\n",
            "Expected number of features for TF-IDF_Random Forest: 10000\n",
            "Sample input shape (1, 10000) is compatible with TF-IDF_Random Forest\n",
            "\n",
            "Model: TF-IDF_Logistic Regression\n",
            "Expected number of features for TF-IDF_Logistic Regression: 10000\n",
            "Sample input shape (1, 10000) is compatible with TF-IDF_Logistic Regression\n",
            "\n",
            "Model: TF-IDF_XGBoost\n",
            "Expected number of features for TF-IDF_XGBoost: 10000\n",
            "Sample input shape (1, 10000) is compatible with TF-IDF_XGBoost\n",
            "\n",
            "Model: Word2Vec_Random Forest\n",
            "Expected number of features for Word2Vec_Random Forest: 300\n",
            "Sample input shape (1, 300) is compatible with Word2Vec_Random Forest\n",
            "\n",
            "Model: Word2Vec_Logistic Regression\n",
            "Expected number of features for Word2Vec_Logistic Regression: 300\n",
            "Sample input shape (1, 300) is compatible with Word2Vec_Logistic Regression\n",
            "\n",
            "Model: Word2Vec_XGBoost\n",
            "Expected number of features for Word2Vec_XGBoost: 300\n",
            "Sample input shape (1, 300) is compatible with Word2Vec_XGBoost\n"
          ]
        }
      ]
    },
    {
      "cell_type": "code",
      "source": [
        "trained_models.keys()"
      ],
      "metadata": {
        "id": "G1bmG6yurRsp",
        "colab": {
          "base_uri": "https://localhost:8080/"
        },
        "outputId": "0ee07036-b0db-49f2-bf11-4c48efd415bb"
      },
      "execution_count": null,
      "outputs": [
        {
          "output_type": "execute_result",
          "data": {
            "text/plain": [
              "dict_keys(['TF-IDF_Random Forest', 'TF-IDF_Logistic Regression', 'TF-IDF_XGBoost', 'Word2Vec_Random Forest', 'Word2Vec_Logistic Regression', 'Word2Vec_XGBoost'])"
            ]
          },
          "metadata": {},
          "execution_count": 54
        }
      ]
    },
    {
      "cell_type": "code",
      "source": [
        "# pickle and save models\n",
        "import pickle\n",
        "\n",
        "# Pickle entire trained_models dict consisting of pairs of model_name: model\n",
        "with open('trained_models.pkl', 'wb') as f:\n",
        "    pickle.dump(trained_models, f)"
      ],
      "metadata": {
        "id": "JXKGkxZVqRyG"
      },
      "execution_count": null,
      "outputs": []
    },
    {
      "cell_type": "markdown",
      "source": [
        "## Proceed with Evaluation"
      ],
      "metadata": {
        "id": "aLyZmXlFqPxK"
      }
    },
    {
      "cell_type": "code",
      "source": [
        "import numpy as np\n",
        "from sklearn.metrics import accuracy_score, roc_auc_score, f1_score, precision_score, recall_score\n",
        "from datetime import datetime\n",
        "from sklearn.utils import resample\n",
        "from tqdm import tqdm\n",
        "\n",
        "# Parameters for bootstrapping\n",
        "n_bootstraps = 1000\n",
        "confidence_level = 0.95\n",
        "\n",
        "# Initialize dictionary to store results with confidence intervals\n",
        "bootstrapped_results = {}\n",
        "\n",
        "for feature_set_name, X_test_fset in test_feature_sets.items():\n",
        "    for combined_model_name, model in trained_models.items():\n",
        "        if feature_set_name not in combined_model_name:\n",
        "            print(f\"[Warning] Skipping combination {combined_model_name} and fset {feature_set_name} (not valid).\")\n",
        "            continue\n",
        "\n",
        "        print(f\"Running predictions for {combined_model_name} model and {feature_set_name} feature set... [{datetime.now()}]\")\n",
        "\n",
        "        # Get y_pred (changed from ordinal categories back into str)\n",
        "        y_pred = label_encoder.inverse_transform(model.predict(X_test_fset))\n",
        "        y_proba = model.predict_proba(X_test_fset)\n",
        "\n",
        "        # Store bootstrapped metrics\n",
        "        accuracy_scores = []\n",
        "        auroc_scores = []\n",
        "        f1_scores = []\n",
        "        precision_scores = []\n",
        "        recall_scores = []\n",
        "\n",
        "        # ROC curve data\n",
        "        tprs = []\n",
        "        aucs = []\n",
        "        mean_fpr = np.linspace(0, 1, 100)  # Common FPR range for interpolation\n",
        "\n",
        "        for i in tqdm(range(n_bootstraps), desc=f\"Bootstrapping {combined_model_name} on {feature_set_name}\"):\n",
        "            # Resample with replacement\n",
        "            X_resampled, y_resampled = resample(X_test_fset, test_df['label'], random_state=i)\n",
        "            y_resampled_binarized = label_encoder.transform(y_resampled)\n",
        "\n",
        "            # Make predictions on resampled data\n",
        "            y_pred_resampled = label_encoder.inverse_transform(model.predict(X_resampled))\n",
        "            y_proba_resampled = model.predict_proba(X_resampled)\n",
        "\n",
        "            # Calculate metrics\n",
        "            accuracy_scores.append(accuracy_score(y_resampled, y_pred_resampled))\n",
        "            auroc_scores.append(roc_auc_score(y_resampled_binarized, y_proba_resampled, multi_class='ovr'))\n",
        "            f1_scores.append(f1_score(y_resampled, y_pred_resampled, average='weighted'))\n",
        "            precision_scores.append(precision_score(y_resampled, y_pred_resampled, average='weighted'))\n",
        "            recall_scores.append(recall_score(y_resampled, y_pred_resampled, average='weighted'))\n",
        "\n",
        "        # Calculate confidence intervals\n",
        "        def calculate_confidence_interval(data):\n",
        "            lower_bound = np.percentile(data, ((1 - confidence_level) / 2) * 100)\n",
        "            upper_bound = np.percentile(data, (1 - (1 - confidence_level) / 2) * 100)\n",
        "            return np.mean(data), (lower_bound, upper_bound)\n",
        "\n",
        "        bootstrapped_results[combined_model_name] = {\n",
        "            'Accuracy': calculate_confidence_interval(accuracy_scores),\n",
        "            'AUROC': calculate_confidence_interval(auroc_scores),\n",
        "            'F1 Score': calculate_confidence_interval(f1_scores),\n",
        "            'Precision': calculate_confidence_interval(precision_scores),\n",
        "            'Recall': calculate_confidence_interval(recall_scores)\n",
        "        }\n",
        "\n",
        "# Print the results with confidence intervals\n",
        "for model_name, metrics in bootstrapped_results.items():\n",
        "    print(f\"\\nResults for {model_name}:\")\n",
        "    for metric_name, (mean_score, ci) in metrics.items():\n",
        "        print(f\"{metric_name}: {mean_score:.4f} (95% CI: {ci[0]:.4f} - {ci[1]:.4f})\")\n"
      ],
      "metadata": {
        "id": "OcV_GPgQ0Yoq",
        "colab": {
          "base_uri": "https://localhost:8080/"
        },
        "outputId": "4a032244-d076-458a-f8f1-6d556cd098f6"
      },
      "execution_count": null,
      "outputs": [
        {
          "output_type": "stream",
          "name": "stdout",
          "text": [
            "Running predictions for TF-IDF_Random Forest model and TF-IDF feature set... [2024-11-13 10:57:52.684933]\n"
          ]
        },
        {
          "output_type": "stream",
          "name": "stderr",
          "text": [
            "Bootstrapping TF-IDF_Random Forest on TF-IDF: 100%|██████████| 1000/1000 [08:10<00:00,  2.04it/s]\n"
          ]
        },
        {
          "output_type": "stream",
          "name": "stdout",
          "text": [
            "Running predictions for TF-IDF_Logistic Regression model and TF-IDF feature set... [2024-11-13 11:06:03.228319]\n"
          ]
        },
        {
          "output_type": "stream",
          "name": "stderr",
          "text": [
            "Bootstrapping TF-IDF_Logistic Regression on TF-IDF: 100%|██████████| 1000/1000 [03:48<00:00,  4.38it/s]\n"
          ]
        },
        {
          "output_type": "stream",
          "name": "stdout",
          "text": [
            "Running predictions for TF-IDF_XGBoost model and TF-IDF feature set... [2024-11-13 11:09:51.574293]\n"
          ]
        },
        {
          "output_type": "stream",
          "name": "stderr",
          "text": [
            "Bootstrapping TF-IDF_XGBoost on TF-IDF: 100%|██████████| 1000/1000 [14:07<00:00,  1.18it/s]\n"
          ]
        },
        {
          "output_type": "stream",
          "name": "stdout",
          "text": [
            "[Warning] Skipping combination Word2Vec_Random Forest and fset TF-IDF (not valid).\n",
            "[Warning] Skipping combination Word2Vec_Logistic Regression and fset TF-IDF (not valid).\n",
            "[Warning] Skipping combination Word2Vec_XGBoost and fset TF-IDF (not valid).\n",
            "[Warning] Skipping combination TF-IDF_Random Forest and fset Word2Vec (not valid).\n",
            "[Warning] Skipping combination TF-IDF_Logistic Regression and fset Word2Vec (not valid).\n",
            "[Warning] Skipping combination TF-IDF_XGBoost and fset Word2Vec (not valid).\n",
            "Running predictions for Word2Vec_Random Forest model and Word2Vec feature set... [2024-11-13 11:23:59.784582]\n"
          ]
        },
        {
          "output_type": "stream",
          "name": "stderr",
          "text": [
            "Bootstrapping Word2Vec_Random Forest on Word2Vec: 100%|██████████| 1000/1000 [06:33<00:00,  2.54it/s]\n"
          ]
        },
        {
          "output_type": "stream",
          "name": "stdout",
          "text": [
            "Running predictions for Word2Vec_Logistic Regression model and Word2Vec feature set... [2024-11-13 11:30:33.489894]\n"
          ]
        },
        {
          "output_type": "stream",
          "name": "stderr",
          "text": [
            "Bootstrapping Word2Vec_Logistic Regression on Word2Vec: 100%|██████████| 1000/1000 [04:48<00:00,  3.47it/s]\n"
          ]
        },
        {
          "output_type": "stream",
          "name": "stdout",
          "text": [
            "Running predictions for Word2Vec_XGBoost model and Word2Vec feature set... [2024-11-13 11:35:21.902543]\n"
          ]
        },
        {
          "output_type": "stream",
          "name": "stderr",
          "text": [
            "Bootstrapping Word2Vec_XGBoost on Word2Vec: 100%|██████████| 1000/1000 [07:13<00:00,  2.31it/s]"
          ]
        },
        {
          "output_type": "stream",
          "name": "stdout",
          "text": [
            "\n",
            "Results for TF-IDF_Random Forest:\n",
            "Accuracy: 0.6836 (95% CI: 0.6744 - 0.6928)\n",
            "AUROC: 0.8648 (95% CI: 0.8594 - 0.8708)\n",
            "F1 Score: 0.6852 (95% CI: 0.6761 - 0.6945)\n",
            "Precision: 0.6889 (95% CI: 0.6798 - 0.6982)\n",
            "Recall: 0.6836 (95% CI: 0.6744 - 0.6928)\n",
            "\n",
            "Results for TF-IDF_Logistic Regression:\n",
            "Accuracy: 0.7091 (95% CI: 0.7000 - 0.7187)\n",
            "AUROC: 0.9026 (95% CI: 0.8980 - 0.9072)\n",
            "F1 Score: 0.7100 (95% CI: 0.7009 - 0.7196)\n",
            "Precision: 0.7128 (95% CI: 0.7037 - 0.7223)\n",
            "Recall: 0.7091 (95% CI: 0.7000 - 0.7187)\n",
            "\n",
            "Results for TF-IDF_XGBoost:\n",
            "Accuracy: 0.7093 (95% CI: 0.7003 - 0.7182)\n",
            "AUROC: 0.8962 (95% CI: 0.8913 - 0.9009)\n",
            "F1 Score: 0.7110 (95% CI: 0.7020 - 0.7197)\n",
            "Precision: 0.7206 (95% CI: 0.7121 - 0.7294)\n",
            "Recall: 0.7093 (95% CI: 0.7003 - 0.7182)\n",
            "\n",
            "Results for Word2Vec_Random Forest:\n",
            "Accuracy: 0.4460 (95% CI: 0.4354 - 0.4560)\n",
            "AUROC: 0.6807 (95% CI: 0.6729 - 0.6882)\n",
            "F1 Score: 0.4457 (95% CI: 0.4349 - 0.4557)\n",
            "Precision: 0.4461 (95% CI: 0.4353 - 0.4562)\n",
            "Recall: 0.4460 (95% CI: 0.4354 - 0.4560)\n",
            "\n",
            "Results for Word2Vec_Logistic Regression:\n",
            "Accuracy: 0.4123 (95% CI: 0.4025 - 0.4220)\n",
            "AUROC: 0.6916 (95% CI: 0.6841 - 0.6996)\n",
            "F1 Score: 0.4095 (95% CI: 0.3993 - 0.4193)\n",
            "Precision: 0.4582 (95% CI: 0.4462 - 0.4697)\n",
            "Recall: 0.4123 (95% CI: 0.4025 - 0.4220)\n",
            "\n",
            "Results for Word2Vec_XGBoost:\n",
            "Accuracy: 0.4587 (95% CI: 0.4488 - 0.4686)\n",
            "AUROC: 0.7188 (95% CI: 0.7114 - 0.7259)\n",
            "F1 Score: 0.4619 (95% CI: 0.4517 - 0.4716)\n",
            "Precision: 0.4737 (95% CI: 0.4629 - 0.4836)\n",
            "Recall: 0.4587 (95% CI: 0.4488 - 0.4686)\n"
          ]
        },
        {
          "output_type": "stream",
          "name": "stderr",
          "text": [
            "\n"
          ]
        }
      ]
    },
    {
      "cell_type": "code",
      "source": [
        "results.keys()"
      ],
      "metadata": {
        "id": "Od9cwBBTEvgG",
        "colab": {
          "base_uri": "https://localhost:8080/"
        },
        "outputId": "5e7758ad-78fe-4d18-9861-c8710b598eab"
      },
      "execution_count": null,
      "outputs": [
        {
          "output_type": "execute_result",
          "data": {
            "text/plain": [
              "dict_keys([])"
            ]
          },
          "metadata": {},
          "execution_count": 57
        }
      ]
    },
    {
      "cell_type": "code",
      "source": [
        "# Print out results, for each model/feature set pair\n",
        "\n",
        "for model_fset_pair, stats in results.items():\n",
        "  print(\"---\")\n",
        "  print(f\"Model/Feature Set: {model_fset_pair}\")\n",
        "  for metric, value in stats.items():\n",
        "    print(f\"{metric}: {value}\")\n",
        "  print(\"---\")\n"
      ],
      "metadata": {
        "id": "ZltEZsqwgtST"
      },
      "execution_count": null,
      "outputs": []
    },
    {
      "cell_type": "code",
      "source": [
        "# Plot AUROC curve for best feature set - Logistic Regression has highest F1 score\n",
        "best_model_name = \"TF-IDF_Logistic Regression\"\n",
        "best_feature_set_name = \"TF-IDF\"\n",
        "\n",
        "best_model = trained_models[best_model_name]\n",
        "curr_test_feature_set = test_feature_sets[best_feature_set_name]\n",
        "\n",
        "# Perform inference on test set\n",
        "y_pred = label_encoder.inverse_transform(best_model.predict(curr_test_feature_set))\n",
        "y_proba = best_model.predict_proba(curr_test_feature_set)\n",
        "\n",
        "# Binarize labels for AUROC\n",
        "lb = LabelBinarizer()\n",
        "y_test_binarized = lb.fit_transform(test_df['label'])\n",
        "\n",
        "class_mapping = {index: label for index, label in enumerate(lb.classes_)}"
      ],
      "metadata": {
        "id": "iIHegC_3Ybsd"
      },
      "execution_count": null,
      "outputs": []
    },
    {
      "cell_type": "code",
      "source": [
        "import matplotlib.pyplot as plt\n",
        "from sklearn.metrics import roc_curve, auc, RocCurveDisplay\n",
        "from itertools import cycle\n",
        "import numpy as np\n",
        "\n",
        "# Initialize the false positive rate, true positive rate, and AUC dictionaries\n",
        "fpr = dict()\n",
        "tpr = dict()\n",
        "roc_auc = dict()\n",
        "\n",
        "# Compute micro-average ROC curve and ROC area\n",
        "fpr[\"micro\"], tpr[\"micro\"], _ = roc_curve(y_test_binarized.ravel(), y_proba.ravel())\n",
        "roc_auc[\"micro\"] = auc(fpr[\"micro\"], tpr[\"micro\"])\n",
        "\n",
        "# Compute macro-average ROC curve and ROC area\n",
        "# Aggregate all FPR and TPR scores across all classes\n",
        "all_fpr = np.unique(np.concatenate([roc_curve(y_test_binarized[:, i], y_proba[:, i])[0] for i in range(n_classes)]))\n",
        "mean_tpr = np.zeros_like(all_fpr)\n",
        "\n",
        "for i in range(n_classes):\n",
        "    fpr[i], tpr[i], _ = roc_curve(y_test_binarized[:, i], y_proba[:, i])\n",
        "    roc_auc[i] = auc(fpr[i], tpr[i])\n",
        "    mean_tpr += np.interp(all_fpr, fpr[i], tpr[i])\n",
        "\n",
        "# Average TPR and compute AUC for macro-average\n",
        "mean_tpr /= n_classes\n",
        "fpr[\"macro\"] = all_fpr\n",
        "tpr[\"macro\"] = mean_tpr\n",
        "roc_auc[\"macro\"] = auc(fpr[\"macro\"], tpr[\"macro\"])\n",
        "\n",
        "# Plot the figure\n",
        "fig, ax = plt.subplots(figsize=(6, 6))\n",
        "\n",
        "# Plot micro-average ROC curve\n",
        "plt.plot(\n",
        "    fpr[\"micro\"],\n",
        "    tpr[\"micro\"],\n",
        "    label=f\"micro-average ROC curve (AUC = {roc_auc['micro']:.2f})\",\n",
        "    color=\"deeppink\",\n",
        "    linestyle=\":\",\n",
        "    linewidth=4,\n",
        ")\n",
        "\n",
        "# Plot macro-average ROC curve\n",
        "plt.plot(\n",
        "    fpr[\"macro\"],\n",
        "    tpr[\"macro\"],\n",
        "    label=f\"macro-average ROC curve (AUC = {roc_auc['macro']:.2f})\",\n",
        "    color=\"navy\",\n",
        "    linestyle=\":\",\n",
        "    linewidth=4,\n",
        ")\n",
        "\n",
        "# Cycle through colors for each class\n",
        "colors = cycle([\"aqua\", \"darkorange\", \"cornflowerblue\", \"green\", \"purple\"])\n",
        "for class_id, color in zip(range(n_classes), colors):\n",
        "    RocCurveDisplay.from_predictions(\n",
        "        y_test_binarized[:, class_id],\n",
        "        y_proba[:, class_id],\n",
        "        name=f\"ROC curve for {class_mapping[class_id]}\",\n",
        "        color=color,\n",
        "        ax=ax,\n",
        "        plot_chance_level=(class_id == n_classes - 1),  # Chance level plot for the last class\n",
        "    )\n",
        "\n",
        "# Configure plot aesthetics\n",
        "ax.set(\n",
        "    xlabel=\"False Positive Rate\",\n",
        "    ylabel=\"True Positive Rate\",\n",
        "    title=\"Receiver Operating Characteristic for LR Model\\nOne-vs-Rest Multiclass\",\n",
        ")\n",
        "ax.legend(loc=\"lower right\")\n",
        "\n",
        "# Save to PDF\n",
        "output_path = \"OvR_ROC_Curves.pdf\"\n",
        "plt.savefig(output_path, format=\"pdf\")\n",
        "\n",
        "plt.show()\n"
      ],
      "metadata": {
        "colab": {
          "base_uri": "https://localhost:8080/",
          "height": 585
        },
        "id": "mfKNeV00dLbf",
        "outputId": "51e55edd-5208-46f7-9ec3-b870370a3716"
      },
      "execution_count": null,
      "outputs": [
        {
          "output_type": "display_data",
          "data": {
            "text/plain": [
              "<Figure size 600x600 with 1 Axes>"
            ],
            "image/png": "[encoded data removed]"
          },
          "metadata": {}
        }
      ]
    },
    {
      "cell_type": "markdown",
      "source": [
        "# Ensemble (Stack) using XGBoost meta-model"
      ],
      "metadata": {
        "id": "WF9HEtFYxVFU"
      }
    },
    {
      "cell_type": "code",
      "source": [
        "from sklearn.model_selection import GridSearchCV\n",
        "from sklearn.metrics import accuracy_score, roc_auc_score, f1_score\n",
        "import numpy as np\n",
        "from xgboost import XGBClassifier\n",
        "\n",
        "# Meta-model initialization\n",
        "meta_model = XGBClassifier()\n",
        "\n",
        "# Train base models (already done in your provided code), so use `trained_models`\n",
        "\n",
        "# Generate meta-features from the base models' predictions\n",
        "# Initialize containers for stacking features and labels\n",
        "meta_train_features = []\n",
        "meta_test_features = []\n",
        "\n",
        "# Generate meta-features on training data\n",
        "for feature_set_name, X_train_fset in train_feature_sets.items():\n",
        "  if \"TF-IDF\" in feature_set_name:\n",
        "    train_preds = []\n",
        "    for model_name, model in models.items():\n",
        "        combined_model_name = f\"{feature_set_name}_{model_name}\"\n",
        "\n",
        "        # Ensure the model has already been trained and saved\n",
        "        if combined_model_name in trained_models:\n",
        "            print(f\"Generating training meta-features with {combined_model_name}...\")\n",
        "            # Get prediction probabilities for the training set\n",
        "            train_preds.append(trained_models[combined_model_name].predict_proba(X_train_fset))\n",
        "\n",
        "    # Stack predictions from all base models as features for the meta-model\n",
        "    meta_train_features.append(np.hstack(train_preds))\n",
        "\n",
        "# Concatenate meta-features across all feature sets for training\n",
        "meta_train_features = np.hstack(meta_train_features)\n",
        "\n",
        "# Meta-labels (original training labels)\n",
        "meta_train_labels = y_train_encoded\n",
        "\n",
        "# Hyperparameter grid for the meta-model (XGBoost)\n",
        "param_grid = {\n",
        "    'n_estimators': [50, 100, 200],\n",
        "    'learning_rate': [0.01, 0.1, 0.2],\n",
        "    'max_depth': [3, 5, 7],\n",
        "    'subsample': [0.7, 0.8, 1.0],\n",
        "    'colsample_bytree': [0.7, 0.8, 1.0]\n",
        "}\n",
        "\n",
        "# Initialize GridSearchCV for the meta-model\n",
        "grid_search = GridSearchCV(meta_model, param_grid, scoring='f1_weighted', cv=5, verbose=1, n_jobs=-1)\n",
        "\n",
        "# Train the meta-model with hyperparameter tuning\n",
        "print(\"Tuning and training the meta-model (XGBoost) on stacked features...\")\n",
        "grid_search.fit(meta_train_features, meta_train_labels)\n",
        "\n",
        "# Best meta-model\n",
        "best_meta_model = grid_search.best_estimator_\n",
        "print(f\"Best meta-model parameters: {grid_search.best_params_}\")\n",
        "\n",
        "# Generate meta-features on the test data\n",
        "for feature_set_name, X_test_fset in test_feature_sets.items():\n",
        "  if \"TF-IDF\" in feature_set_name:\n",
        "    test_preds = []\n",
        "    for model_name, model in models.items():\n",
        "        combined_model_name = f\"{feature_set_name}_{model_name}\"\n",
        "\n",
        "        # Use trained models to generate test predictions\n",
        "        if combined_model_name in trained_models:\n",
        "            print(f\"Generating test meta-features with {combined_model_name}...\")\n",
        "            # Get prediction probabilities for the test set\n",
        "            test_preds.append(trained_models[combined_model_name].predict_proba(X_test_fset))\n",
        "\n",
        "    # Stack predictions from all base models as features for the meta-model\n",
        "    meta_test_features.append(np.hstack(test_preds))\n",
        "\n",
        "# Concatenate meta-features across all feature sets for testing\n",
        "meta_test_features = np.hstack(meta_test_features)\n",
        "\n",
        "# Make final predictions with the best meta-model\n",
        "stacked_predictions = best_meta_model.predict(meta_test_features)\n",
        "stacked_proba = best_meta_model.predict_proba(meta_test_features)\n"
      ],
      "metadata": {
        "id": "4xaBieWNxXf9",
        "colab": {
          "base_uri": "https://localhost:8080/"
        },
        "outputId": "a88ca780-6a32-4c9e-f420-e9a0a621815d"
      },
      "execution_count": null,
      "outputs": [
        {
          "output_type": "stream",
          "name": "stdout",
          "text": [
            "Generating training meta-features with TF-IDF_Random Forest...\n",
            "Generating training meta-features with TF-IDF_Logistic Regression...\n",
            "Generating training meta-features with TF-IDF_XGBoost...\n",
            "Tuning and training the meta-model (XGBoost) on stacked features...\n",
            "Fitting 5 folds for each of 243 candidates, totalling 1215 fits\n",
            "Best meta-model parameters: {'colsample_bytree': 1.0, 'learning_rate': 0.01, 'max_depth': 3, 'n_estimators': 50, 'subsample': 0.8}\n",
            "Generating test meta-features with TF-IDF_Random Forest...\n",
            "Generating test meta-features with TF-IDF_Logistic Regression...\n",
            "Generating test meta-features with TF-IDF_XGBoost...\n",
            "\n",
            "Tuned Stacked Model Performance:\n",
            "Accuracy: 0.6406\n",
            "F1 Score: 0.6424\n",
            "AUROC: 0.8043\n"
          ]
        }
      ]
    },
    {
      "cell_type": "code",
      "source": [
        "# Evaluate the stacked model\n",
        "accuracy = accuracy_score(y_test_encoded, stacked_predictions)\n",
        "f1 = f1_score(y_test_encoded, stacked_predictions, average='weighted')\n",
        "auroc = roc_auc_score(y_test_binarized, stacked_proba, multi_class='ovr')\n",
        "\n",
        "print(f\"\\nTuned Stacked Model Performance:\\nAccuracy: {accuracy:.4f}\\nF1 Score: {f1:.4f}\\nAUROC: {auroc:.4f}\")"
      ],
      "metadata": {
        "colab": {
          "base_uri": "https://localhost:8080/",
          "height": 350
        },
        "id": "5HNQq3dElIiO",
        "outputId": "006c0779-3561-4dbe-9001-52d722834195"
      },
      "execution_count": null,
      "outputs": [
        {
          "output_type": "error",
          "ename": "TypeError",
          "evalue": "got an unexpected keyword argument 'average'",
          "traceback": [
            "\u001b[0;31m---------------------------------------------------------------------------\u001b[0m",
            "\u001b[0;31mTypeError\u001b[0m                                 Traceback (most recent call last)",
            "\u001b[0;32m<ipython-input-88-2f98a75f561c>\u001b[0m in \u001b[0;36m<cell line: 2>\u001b[0;34m()\u001b[0m\n\u001b[1;32m      1\u001b[0m \u001b[0;31m# Evaluate the stacked model\u001b[0m\u001b[0;34m\u001b[0m\u001b[0;34m\u001b[0m\u001b[0m\n\u001b[0;32m----> 2\u001b[0;31m \u001b[0maccuracy\u001b[0m \u001b[0;34m=\u001b[0m \u001b[0maccuracy_score\u001b[0m\u001b[0;34m(\u001b[0m\u001b[0my_test_encoded\u001b[0m\u001b[0;34m,\u001b[0m \u001b[0mstacked_predictions\u001b[0m\u001b[0;34m,\u001b[0m \u001b[0maverage\u001b[0m\u001b[0;34m=\u001b[0m\u001b[0;34m'macro'\u001b[0m\u001b[0;34m)\u001b[0m\u001b[0;34m\u001b[0m\u001b[0;34m\u001b[0m\u001b[0m\n\u001b[0m\u001b[1;32m      3\u001b[0m \u001b[0mf1\u001b[0m \u001b[0;34m=\u001b[0m \u001b[0mf1_score\u001b[0m\u001b[0;34m(\u001b[0m\u001b[0my_test_encoded\u001b[0m\u001b[0;34m,\u001b[0m \u001b[0mstacked_predictions\u001b[0m\u001b[0;34m,\u001b[0m \u001b[0maverage\u001b[0m\u001b[0;34m=\u001b[0m\u001b[0;34m'weighted'\u001b[0m\u001b[0;34m)\u001b[0m\u001b[0;34m\u001b[0m\u001b[0;34m\u001b[0m\u001b[0m\n\u001b[1;32m      4\u001b[0m \u001b[0mauroc\u001b[0m \u001b[0;34m=\u001b[0m \u001b[0mroc_auc_score\u001b[0m\u001b[0;34m(\u001b[0m\u001b[0my_test_binarized\u001b[0m\u001b[0;34m,\u001b[0m \u001b[0mstacked_proba\u001b[0m\u001b[0;34m,\u001b[0m \u001b[0mmulti_class\u001b[0m\u001b[0;34m=\u001b[0m\u001b[0;34m'ovr'\u001b[0m\u001b[0;34m)\u001b[0m\u001b[0;34m\u001b[0m\u001b[0;34m\u001b[0m\u001b[0m\n\u001b[1;32m      5\u001b[0m \u001b[0;34m\u001b[0m\u001b[0m\n",
            "\u001b[0;32m/usr/local/lib/python3.10/dist-packages/sklearn/utils/_param_validation.py\u001b[0m in \u001b[0;36mwrapper\u001b[0;34m(*args, **kwargs)\u001b[0m\n\u001b[1;32m    189\u001b[0m \u001b[0;34m\u001b[0m\u001b[0m\n\u001b[1;32m    190\u001b[0m             \u001b[0;31m# Map *args/**kwargs to the function signature\u001b[0m\u001b[0;34m\u001b[0m\u001b[0;34m\u001b[0m\u001b[0m\n\u001b[0;32m--> 191\u001b[0;31m             \u001b[0mparams\u001b[0m \u001b[0;34m=\u001b[0m \u001b[0mfunc_sig\u001b[0m\u001b[0;34m.\u001b[0m\u001b[0mbind\u001b[0m\u001b[0;34m(\u001b[0m\u001b[0;34m*\u001b[0m\u001b[0margs\u001b[0m\u001b[0;34m,\u001b[0m \u001b[0;34m**\u001b[0m\u001b[0mkwargs\u001b[0m\u001b[0;34m)\u001b[0m\u001b[0;34m\u001b[0m\u001b[0;34m\u001b[0m\u001b[0m\n\u001b[0m\u001b[1;32m    192\u001b[0m             \u001b[0mparams\u001b[0m\u001b[0;34m.\u001b[0m\u001b[0mapply_defaults\u001b[0m\u001b[0;34m(\u001b[0m\u001b[0;34m)\u001b[0m\u001b[0;34m\u001b[0m\u001b[0;34m\u001b[0m\u001b[0m\n\u001b[1;32m    193\u001b[0m \u001b[0;34m\u001b[0m\u001b[0m\n",
            "\u001b[0;32m/usr/lib/python3.10/inspect.py\u001b[0m in \u001b[0;36mbind\u001b[0;34m(self, *args, **kwargs)\u001b[0m\n\u001b[1;32m   3184\u001b[0m         \u001b[0;32mif\u001b[0m \u001b[0mthe\u001b[0m \u001b[0mpassed\u001b[0m \u001b[0marguments\u001b[0m \u001b[0mcan\u001b[0m \u001b[0;32mnot\u001b[0m \u001b[0mbe\u001b[0m \u001b[0mbound\u001b[0m\u001b[0;34m.\u001b[0m\u001b[0;34m\u001b[0m\u001b[0;34m\u001b[0m\u001b[0m\n\u001b[1;32m   3185\u001b[0m         \"\"\"\n\u001b[0;32m-> 3186\u001b[0;31m         \u001b[0;32mreturn\u001b[0m \u001b[0mself\u001b[0m\u001b[0;34m.\u001b[0m\u001b[0m_bind\u001b[0m\u001b[0;34m(\u001b[0m\u001b[0margs\u001b[0m\u001b[0;34m,\u001b[0m \u001b[0mkwargs\u001b[0m\u001b[0;34m)\u001b[0m\u001b[0;34m\u001b[0m\u001b[0;34m\u001b[0m\u001b[0m\n\u001b[0m\u001b[1;32m   3187\u001b[0m \u001b[0;34m\u001b[0m\u001b[0m\n\u001b[1;32m   3188\u001b[0m     \u001b[0;32mdef\u001b[0m \u001b[0mbind_partial\u001b[0m\u001b[0;34m(\u001b[0m\u001b[0mself\u001b[0m\u001b[0;34m,\u001b[0m \u001b[0;34m/\u001b[0m\u001b[0;34m,\u001b[0m \u001b[0;34m*\u001b[0m\u001b[0margs\u001b[0m\u001b[0;34m,\u001b[0m \u001b[0;34m**\u001b[0m\u001b[0mkwargs\u001b[0m\u001b[0;34m)\u001b[0m\u001b[0;34m:\u001b[0m\u001b[0;34m\u001b[0m\u001b[0;34m\u001b[0m\u001b[0m\n",
            "\u001b[0;32m/usr/lib/python3.10/inspect.py\u001b[0m in \u001b[0;36m_bind\u001b[0;34m(self, args, kwargs, partial)\u001b[0m\n\u001b[1;32m   3173\u001b[0m                 \u001b[0marguments\u001b[0m\u001b[0;34m[\u001b[0m\u001b[0mkwargs_param\u001b[0m\u001b[0;34m.\u001b[0m\u001b[0mname\u001b[0m\u001b[0;34m]\u001b[0m \u001b[0;34m=\u001b[0m \u001b[0mkwargs\u001b[0m\u001b[0;34m\u001b[0m\u001b[0;34m\u001b[0m\u001b[0m\n\u001b[1;32m   3174\u001b[0m             \u001b[0;32melse\u001b[0m\u001b[0;34m:\u001b[0m\u001b[0;34m\u001b[0m\u001b[0;34m\u001b[0m\u001b[0m\n\u001b[0;32m-> 3175\u001b[0;31m                 raise TypeError(\n\u001b[0m\u001b[1;32m   3176\u001b[0m                     'got an unexpected keyword argument {arg!r}'.format(\n\u001b[1;32m   3177\u001b[0m                         arg=next(iter(kwargs))))\n",
            "\u001b[0;31mTypeError\u001b[0m: got an unexpected keyword argument 'average'"
          ]
        }
      ]
    },
    {
      "cell_type": "markdown",
      "source": [
        "#LLM Integration"
      ],
      "metadata": {
        "id": "44zHYIwH1CGc"
      }
    },
    {
      "cell_type": "markdown",
      "source": [
        "As you can see, the dataset is a table where each row is a datapoint, and each column is a variable. To learn more about how to programmatically work with the dataset, check out this short 10-minute tutorial on the python `pandas` package [here](https://pandas.pydata.org/docs/user_guide/10min.html)."
      ],
      "metadata": {
        "id": "HqSW6f-oRlxa"
      }
    },
    {
      "cell_type": "code",
      "source": [
        "# # prompt: convert dataset into a csv\n",
        "\n",
        "# import pandas as pd\n",
        "\n",
        "# # Assuming 'train_dataset' and 'test_dataset' are already defined as pandas DataFrames\n",
        "# # from the previous code.\n",
        "\n",
        "# # Combine train and test datasets if you want to include all data in one CSV\n",
        "# combined_dataset = pd.concat([train_dataset, test_dataset], ignore_index=True)\n",
        "\n",
        "# # Save the combined dataset to a CSV file\n",
        "# combined_dataset.to_csv('combined_dataset.csv', index=False)\n",
        "\n",
        "# # Alternatively, save train and test datasets to separate CSV files:\n",
        "# train_dataset.to_csv('train_dataset.csv', index=False)\n",
        "# test_dataset.to_csv('test_dataset.csv', index=False)"
      ],
      "metadata": {
        "id": "zyyz-JQwzkSk"
      },
      "execution_count": null,
      "outputs": []
    },
    {
      "cell_type": "markdown",
      "source": [
        "Now that we have our dataset downloaded, what can we do with it? One option is to feed it into a Large Language Model (LLM)! An LLM is exactly what it sounds like - a machine learning model that takes text data as input, and can process text to answer any questions or perform tasks or instructions. There are a lot of LLMs out there now, including [ChatGPT](https://chatgpt.com/) and [Meta Llama 3.1](https://ai.meta.com/blog/meta-llama-3-1/).\n",
        "\n",
        "Note that LLMs are also *large* - so large that it's very difficult or even possible to download these models and run on your own computer. Instead, companies like [Together AI](https://www.together.ai/) have dedicated supercomputers that will run any request or command that you have - all you need to do is pay a few cents per question you ask the LLM (see the pricing details [here](https://www.together.ai/pricing) if you're interested). Together AI also offers $5 in free API credits when you sign up, which should be more than enough to get started.\n",
        "\n",
        "### **Important: Note that for the purposes of the Datathon, you may only use open-source models with 8-billion parameters or less if you're using an LLM as a part of your project.**\n",
        "\n",
        "Let's try and run an LLM from Meta (previously Facebook) called Llama 3.1, which is offered by the Together AI platform. Follow these steps:\n",
        "\n",
        "  1. Go to [together.ai](https://www.together.ai/) and click \"Get Started\" at the upper right. Create an account.\n",
        "  2. Create an API key at [this link](https://api.together.xyz/settings/api-keys). An API key is a unique key that tells Together AI that it's you who is making a request to their servers. **[IMPORTANT]: Never share your API key with anyone!!**\n",
        "  3. Copy your API key. In Google Colab, click on the \"Secrets\" icon on the toolbar on the left hand side of your screen (it should look like a key). Set the name of your API key to `TOGETHER_API_KEY` and paste the value of your API key to the \"Value\" field. Grant this Notebook access to this secret.\n",
        "\n",
        "If all goes well, the following line of code should run without any errors."
      ],
      "metadata": {
        "id": "Q9Nxq1A5T6Ok"
      }
    },
    {
      "cell_type": "code",
      "source": [
        "# WARNING: DO NOT SHARE YOUR API KEY WITH ANYONE!\n",
        "os.environ[\"TOGETHER_API_KEY\"] = userdata.get(\"TOGETHER_API_KEY\")"
      ],
      "metadata": {
        "id": "t0gJlGqcdEj7"
      },
      "execution_count": null,
      "outputs": []
    },
    {
      "cell_type": "markdown",
      "source": [
        "To \"log into\" Together AI and verify your identity with its platform, we need to instantiate a \"client\" object to establish the relevant connection details between your computer and Together AI's servers. A lot of complicated stuff happens in the background, but for us, all we need to do is run the following line:"
      ],
      "metadata": {
        "id": "9G4WxLZJrFiU"
      }
    },
    {
      "cell_type": "code",
      "source": [
        "llm_client = Together()"
      ],
      "metadata": {
        "id": "wf-CtNYQ_-F4"
      },
      "execution_count": null,
      "outputs": []
    },
    {
      "cell_type": "markdown",
      "source": [
        "Normally when asking a question to a language model, we would type our question out in a search box and press [Enter], and the model's response would begin to show up on the screen. This is fine to do for general, everyday use, but what if you want to tell the language model to perform *thousands* of tasks? We can programatically ask LLMs questions using the code below.\n",
        "\n",
        "Firstly, let's extract a sample input to the language model from your Datathon track dataset:"
      ],
      "metadata": {
        "id": "UGNqZ4KNrxJH"
      }
    },
    {
      "cell_type": "code",
      "source": [
        "# # Note that which column is selected depends on which dataset you loaded. Only\n",
        "# # the Medical Education dataset has a \"question\" column, the Clinical Documen-\n",
        "# # tation track a \"dialogue\" column, and the Mental Health track a \"text\" column.\n",
        "# if TRACK == \"Medical Education\":\n",
        "#     input_column_name = \"question\"\n",
        "# elif TRACK == \"Clinical Documentation\":\n",
        "#     input_column_name = \"dialogue\"\n",
        "# else:\n",
        "#     input_column_name = \"text\"\n",
        "\n",
        "# sample_input = train_dataset.iloc[0][input_column_name]\n",
        "\n",
        "# print(f\"Input to LLM:\\n{sample_input}\")"
      ],
      "metadata": {
        "id": "jtfKxMNICfpW"
      },
      "execution_count": null,
      "outputs": []
    },
    {
      "cell_type": "markdown",
      "source": [
        "We've saved the input to the language model as a variable `sample_input`. To feed this into the LLM and ask for a response, all we need to do is run the code below. In our example, we'll use the Llama 3.1 model from Meta for this demo.\n",
        "\n",
        "****Warning**\\**: Running this next block of code will cost a few cents from your free $5 API credits from your Together AI account."
      ],
      "metadata": {
        "id": "_cmLSdIfsXQH"
      }
    },
    {
      "cell_type": "code",
      "source": [
        "# # Asking the Together AI llm_client to respond to your instruction will cost\n",
        "# # money! Be conscientious about any calls to llm_clients that you make.\n",
        "# modelID = \"meta-llama/Meta-Llama-3.1-8B-Instruct-Turbo\"\n",
        "# completion = llm_client.chat.completions.create(\n",
        "#     model=modelID,\n",
        "#     messages=[{\n",
        "#         \"role\": \"user\",\n",
        "#         \"content\": sample_input\n",
        "#     }],\n",
        "# )"
      ],
      "metadata": {
        "id": "Ekokf243DTb6"
      },
      "execution_count": null,
      "outputs": []
    },
    {
      "cell_type": "markdown",
      "source": [
        "That's it! We've asked the model our question, and the LLM's response is saved as the `completion` variable. We can print out the LLM's response here:"
      ],
      "metadata": {
        "id": "RWjN_1u8srsT"
      }
    },
    {
      "cell_type": "code",
      "source": [
        "# print(completion.choices[0].message.content)"
      ],
      "metadata": {
        "id": "V_A34secFYoz"
      },
      "execution_count": null,
      "outputs": []
    },
    {
      "cell_type": "markdown",
      "source": [
        "There's a lot more things you can do with models to alter their performance and behavior - you can check out the [Together AI documentation](https://docs.together.ai/docs/chat-overview) and also the [API reference](https://docs.together.ai/reference/completions-1) as a starting point. Prompt engineering is also an easy way to improve model performance; a good starting point is available [here](https://www.promptingguide.ai/)."
      ],
      "metadata": {
        "id": "pJbK731ps05O"
      }
    },
    {
      "cell_type": "markdown",
      "source": [
        "## Frequently Asked Questions\n",
        "\n",
        "  1. **Do I need to use LLMs for my datathon project?** No, feel free to use whatever technology(s) you want.\n",
        "  2. **Do I need to use Python for my datathon project?** No, feel free to use whatever programming language you want.\n",
        "  3. **What LLMs can I use?** The full list of LLMs offered by Together AI are available [here](https://docs.together.ai/docs/chat-models). Out of these options, you may use any model in the table below. Models that are bolded are generally recommended because they were released more recently and generally perform better than non-bolded models. Using any of these models is as sample as changing out the `model` parameter value in the `llm_client.chat.completions.create()` function call above:\n",
        "\n",
        "```python\n",
        "completion = llm_client.chat.completions.create(\n",
        "    model=\"TODO: Model ID of the model you want to use\",\n",
        "    messages=[{\n",
        "        \"role\": \"user\",\n",
        "        \"content\": \"TODO: Whatever input you want to pass into the model.\"\n",
        "    }],\n",
        ")\n",
        "```\n",
        "\n",
        "| Model Name | Model ID |\n",
        "| :--------- | :------- |\n",
        "| **Gemma Instruct (2B)** | `google/gemma-2b-it` |\n",
        "| **Llama 3.2 3B Instruct Turbo** | `meta-llama/Llama-3.2-3B-Instruct-Turbo` |\n",
        "| **Llama 3.1 8B Instruct Turbo** | `meta-llama/Meta-Llama-3.1-8B-Instruct-Turbo` |\n",
        "| Llama 3 8B Instruct Turbo | `meta-llama/Meta-Llama-3-8B-Instruct-Turbo` |\n",
        "| **Mistral (7B) Instruct v0.3** | `mistralai/Mistral-7B-Instruct-v0.3` |\n",
        "| Mistral (7B) Instruct v0.2 | `mistralai/Mistral-7B-Instruct-v0.2`\t|\n",
        "| Mistral (7B) Instruct | `mistralai/Mistral-7B-Instruct-v0.1` |\n",
        "| **Qwen 2.5 7B Instruct Turbo** | `Qwen/Qwen2.5-7B-Instruct-Turbo` |\n",
        "| **Together StripedHyena Nous (7B)** | `togethercomputer/StripedHyena-Nous-7B` |\n",
        "\n",
        "  4. **Do I have to use Together AI?** No, you are welcome to use any LLM inference provider (or run models locally!). In our experience, Together AI is easy to use and costs the least amount of money. The only requirement is that any LLM used for the datathon must be both (1) at most 8 billion parameters; and (2) open-source. This means that models like ChatGPT and Anthropic's Claude models are not permitted.\n",
        "  5. **How can I learn more about Python?** We've compiled some helpful resources [here](http://ai.mdplus.community/resources), and you can also check out last year's Python Tutorial [here](http://ai.mdplus.community/datathon/python#/title-slide). The best way to learn more is to start writing code, and ask questions in the `#datathon-2024` Slack channel!\n",
        "  6. **Can I use generative AI tools and language models to help my team complete our project?** Yes, the use of generative AI tools are permitted to help you complete any parts of the project. However, you and your team are responsible for any and all outputs of generative AI tools."
      ],
      "metadata": {
        "id": "LIC6cva6aoep"
      }
    },
    {
      "cell_type": "markdown",
      "source": [
        "# Example for Resource Generation"
      ],
      "metadata": {
        "id": "Gltlet561t0L"
      }
    },
    {
      "cell_type": "code",
      "source": [
        "# Example paragraph and preprocessing\n",
        "example_text = \"I used to love riding in elevators, now everytime i think about riding in elevators i breath very heavily, i freeze up, and can't think, and breth quickly, what's wrong with me? is it my fault?\"\n",
        "\n",
        "# Preprocess the text using the same TF-IDF vectorizer we used before\n",
        "example_tfidf = tfidf_vectorizer.transform([example_text])\n",
        "\n",
        "# Use the trained Logistic Regression model to predict\n",
        "predicted_label = logreg_model.predict(example_tfidf)[0]\n",
        "prediction_proba = logreg_model.predict_proba(example_tfidf)\n",
        "\n",
        "# Get top 2 predictions\n",
        "top_2_indices = prediction_proba[0].argsort()[-2:][::-1]\n",
        "top_2_labels = logreg_model.classes_[top_2_indices]\n",
        "top_2_probs = prediction_proba[0][top_2_indices]\n",
        "\n",
        "print(\"Text:\", example_text)\n",
        "print(\"\\\n",
        "Top Predictions:\")\n",
        "print(f\"1st: {top_2_labels[0]} (probability: {top_2_probs[0]:.3f})\")\n",
        "print(f\"2nd: {top_2_labels[1]} (probability: {top_2_probs[1]:.3f})\")\n",
        "\n",
        "print(\"\\\n",
        "All Prediction Probabilities:\")\n",
        "for label, prob in zip(logreg_model.classes_, prediction_proba[0]):\n",
        "    print(f\"{label}: {prob:.3f}\")"
      ],
      "metadata": {
        "id": "MY_zA7OuFaMb",
        "colab": {
          "base_uri": "https://localhost:8080/"
        },
        "outputId": "413e3d6d-1aeb-4f25-e2bd-0708b9ef0f6b"
      },
      "execution_count": null,
      "outputs": [
        {
          "output_type": "stream",
          "name": "stdout",
          "text": [
            "Text: I used to love riding in elevators, now everytime i think about riding in elevators i breath very heavily, i freeze up, and can't think, and breth quickly, what's wrong with me? is it my fault?\n",
            "Top Predictions:\n",
            "1st: off_my_chest (probability: 0.240)\n",
            "2nd: depression (probability: 0.226)\n",
            "All Prediction Probabilities:\n",
            "anxiety: 0.178\n",
            "bipolar: 0.190\n",
            "depression: 0.226\n",
            "off_my_chest: 0.240\n",
            "suicide_watch: 0.166\n"
          ]
        }
      ]
    },
    {
      "cell_type": "code",
      "source": [
        "# Asking the Together AI llm_client to respond to your instruction will cost\n",
        "# money! Be conscientious about any calls to llm_clients that you make.\n",
        "modelID = \"meta-llama/Meta-Llama-3.1-8B-Instruct-Turbo\"\n",
        "completion = llm_client.chat.completions.create(\n",
        "    model=modelID,\n",
        "    messages=[{\n",
        "        \"role\": \"user\",\n",
        "        \"content\": f\"generate resources for someone you suspect may be experiencing {top_2_labels[0]} and {top_2_labels[1]} and in a friendly manner\"\n",
        "    }],\n",
        ")"
      ],
      "metadata": {
        "id": "YsLMY2X8trkV"
      },
      "execution_count": null,
      "outputs": []
    },
    {
      "cell_type": "code",
      "source": [
        "print(completion.choices[0].message.content)"
      ],
      "metadata": {
        "colab": {
          "base_uri": "https://localhost:8080/"
        },
        "id": "5LNANeDkvSLn",
        "outputId": "faac9c97-1f0a-4a46-e461-87c625ab9744"
      },
      "execution_count": null,
      "outputs": [
        {
          "output_type": "stream",
          "name": "stdout",
          "text": [
            "I'm so glad you reached out for help. It takes a lot of courage to acknowledge when we're struggling, and I'm here to support you. If you're experiencing feelings of off-my-chest and depression, here are some resources that might be helpful:\n",
            "\n",
            "**Hotlines and Support Lines:**\n",
            "\n",
            "1. **National Suicide Prevention Lifeline (US):** 1-800-273-TALK (8255) - a 24/7 hotline that provides free and confidential support.\n",
            "2. **Crisis Text Line (US):** Text HOME to 741741 - a 24/7 text line that connects you with a trained crisis counselor.\n",
            "3. **Samaritans (UK):** 116 123 - a 24/7 helpline that provides emotional support.\n",
            "4. **Lifeline (Australia):** 13 11 14 - a 24/7 crisis support and suicide prevention service.\n",
            "\n",
            "**Online Resources:**\n",
            "\n",
            "1. **Mental Health America:** A comprehensive website with information on mental health conditions, treatment options, and resources.\n",
            "2. **National Alliance on Mental Illness (NAMI):** A website with information on mental health conditions, treatment options, and support groups.\n",
            "3. **The Trevor Project:** A website and helpline (1-866-488-7386) that provides support for LGBTQ+ youth.\n",
            "4. **7 Cups:** An online therapy platform that connects you with trained listeners and therapists.\n",
            "\n",
            "**Therapy and Counseling:**\n",
            "\n",
            "1. **BetterHelp:** An online counseling platform that connects you with licensed therapists.\n",
            "2. **Talkspace:** An online therapy platform that offers affordable and convenient access to licensed therapists.\n",
            "3. **Local Therapists:** Search for therapists in your area through online directories like Psychology Today or GoodTherapy.\n",
            "\n",
            "**Support Groups:**\n",
            "\n",
            "1. **NAMI Support Groups:** In-person and online support groups for individuals and families affected by mental health conditions.\n",
            "2. **DBSA (Depression and Bipolar Support Alliance):** In-person and online support groups for individuals with depression and bipolar disorder.\n",
            "3. **Local Support Groups:** Search for support groups in your area through online directories or by contacting local mental health organizations.\n",
            "\n",
            "**Self-Care and Wellness:**\n",
            "\n",
            "1. **Mindfulness and Meditation Apps:** Headspace, Calm, and Insight Timer offer guided meditations and mindfulness exercises.\n",
            "2. **Exercise and Physical Activity:** Regular exercise can help reduce symptoms of depression and anxiety. Find a local gym or fitness class that suits your needs.\n",
            "3. **Healthy Eating:** Focus on a balanced diet that includes plenty of fruits, vegetables, whole grains, and lean proteins.\n",
            "4. **Sleep Hygiene:** Establish a consistent sleep schedule, avoid screens before bedtime, and create a relaxing bedtime routine.\n",
            "\n",
            "**Remember:** You're not alone, and there is help available. Reaching out for support is a sign of strength, not weakness. Take small steps towards seeking help, and don't be afraid to ask for support from loved ones, friends, or a mental health professional.\n",
            "\n",
            "Please take care of yourself and remember that you are worthy of love, care, and support.\n"
          ]
        }
      ]
    },
    {
      "cell_type": "code",
      "source": [],
      "metadata": {
        "id": "7YqM8nQEvXzx"
      },
      "execution_count": null,
      "outputs": []
    }
  ]
}